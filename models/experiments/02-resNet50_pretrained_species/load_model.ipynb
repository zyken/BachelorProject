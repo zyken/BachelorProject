{
 "cells": [
  {
   "cell_type": "code",
   "execution_count": 1,
   "metadata": {},
   "outputs": [],
   "source": [
    "%config IPCompleter.greedy=True"
   ]
  },
  {
   "cell_type": "code",
   "execution_count": 2,
   "metadata": {},
   "outputs": [],
   "source": [
    "import sys\n",
    "import os\n",
    "import pandas as pd\n",
    "sys.path.append(\"../..\") # relative path to module toolkit"
   ]
  },
  {
   "cell_type": "code",
   "execution_count": 3,
   "metadata": {},
   "outputs": [
    {
     "name": "stderr",
     "output_type": "stream",
     "text": [
      "Using TensorFlow backend.\n"
     ]
    }
   ],
   "source": [
    "#from keras.applications import ResNet50\n",
    "#from keras.layers import Dense, GlobalAveragePooling2D\n",
    "from keras.models import Model, load_model\n",
    "from keras_preprocessing.image import ImageDataGenerator\n",
    "from toolkit import getLabelsFromDir, plot_confusion_matrix\n",
    "from sklearn.metrics import classification_report, confusion_matrix\n",
    "import numpy as np\n",
    "import matplotlib\n",
    "import matplotlib.pyplot as plt\n",
    "%matplotlib inline"
   ]
  },
  {
   "cell_type": "code",
   "execution_count": 4,
   "metadata": {},
   "outputs": [],
   "source": [
    "# setup\n",
    "batch_size = 1\n",
    "val_dir = \"../../../images/images_species/val/\"\n",
    "val_images = 3381\n",
    "datasetDir = \"images_species/\"\n",
    "saved_model = 'resNet50pretrained_highest_val_acc.h5'\n",
    "results_file = \"results.csv\""
   ]
  },
  {
   "cell_type": "code",
   "execution_count": 5,
   "metadata": {},
   "outputs": [],
   "source": [
    "labels = getLabelsFromDir(val_dir)\n",
    "val_datagen = ImageDataGenerator(rescale=1./255.)\n",
    "validation_steps = int(val_images/batch_size) "
   ]
  },
  {
   "cell_type": "code",
   "execution_count": 6,
   "metadata": {},
   "outputs": [],
   "source": [
    "model = load_model(saved_model)"
   ]
  },
  {
   "cell_type": "code",
   "execution_count": 7,
   "metadata": {},
   "outputs": [
    {
     "name": "stdout",
     "output_type": "stream",
     "text": [
      "Found 3381 images belonging to 200 classes.\n"
     ]
    }
   ],
   "source": [
    "val_generator = val_datagen.flow_from_directory(val_dir,\n",
    "                                                    classes=labels,\n",
    "                                                    class_mode=\"categorical\",\n",
    "                                                    batch_size=batch_size,\n",
    "                                                    color_mode='rgb',\n",
    "                                                    target_size=(224, 224),\n",
    "                                                    shuffle=False,\n",
    "                                                    seed=1)"
   ]
  },
  {
   "cell_type": "code",
   "execution_count": 8,
   "metadata": {},
   "outputs": [
    {
     "name": "stdout",
     "output_type": "stream",
     "text": [
      "3381/3381 [==============================] - 56s 16ms/step\n"
     ]
    }
   ],
   "source": [
    "Y_pred = model.predict_generator(val_generator, steps=validation_steps, verbose=1)"
   ]
  },
  {
   "cell_type": "code",
   "execution_count": 9,
   "metadata": {},
   "outputs": [],
   "source": [
    "y_pred = np.argmax(Y_pred, axis=1)\n",
    "y_pred3 = [y[-3:] for y in np.argsort(Y_pred, axis=1)] "
   ]
  },
  {
   "cell_type": "code",
   "execution_count": 11,
   "metadata": {},
   "outputs": [],
   "source": [
    "def classification_report_csv(report):\n",
    "    report_data = []\n",
    "    lines = report.split('\\n')\n",
    "    for line in lines[2:-3]:\n",
    "        if line == '':\n",
    "            continue\n",
    "        row = {}\n",
    "        row_data = line.split(' ')\n",
    "        row_data = [data for data in row_data if data]\n",
    "        row['class'] = row_data[0] + \" \" + row_data[1]\n",
    "        row['precision'] = float(row_data[2])\n",
    "        row['recall'] = float(row_data[3])\n",
    "        row['f1_score'] = float(row_data[4])\n",
    "        row['support'] = float(row_data[5])\n",
    "        report_data.append(row)\n",
    "    dataframe = pd.DataFrame.from_dict(report_data)\n",
    "    dataframe.to_csv('classification_report2.csv', index = False)"
   ]
  },
  {
   "cell_type": "code",
   "execution_count": 12,
   "metadata": {},
   "outputs": [
    {
     "name": "stdout",
     "output_type": "stream",
     "text": [
      "                             precision    recall  f1-score   support\n",
      "\n",
      "     Philonthus tenuicornis       0.00      0.00      0.00        27\n",
      "      Paederidus ruficollis       0.00      0.00      0.00        49\n",
      "       Philonthus splendens       0.00      0.00      0.00        35\n",
      "    Pseudomedon obscurellus       0.00      0.00      0.00        29\n",
      "  Staphylinus erythropterus       0.00      0.00      0.00         8\n",
      "    Lobrathium multipunctum       0.00      0.00      0.00        22\n",
      "    Philonthus nitidicollis       0.00      0.00      0.00         2\n",
      "        Xantholinus dvoraki       0.00      0.00      0.00         7\n",
      "         Lathrobium geminum       0.10      0.06      0.07        18\n",
      "          Paederus riparius       0.00      0.00      0.00        56\n",
      "       Heterothops praevius       0.00      0.00      0.00        11\n",
      "          Gabrius osseticus       0.00      0.00      0.00        13\n",
      "     Philonthus carbonarius       0.00      0.00      0.00        71\n",
      "         Quedius semiaeneus       0.00      0.00      0.00         9\n",
      "          Cafius xantholoma       0.00      0.00      0.00        58\n",
      "         Othius punctulatus       0.00      0.00      0.00        11\n",
      "      Heterothops binotatus       0.00      0.00      0.00        15\n",
      "       Philonthus succicola       0.00      0.00      0.00        44\n",
      "     Philonthus rectangulus       0.00      0.00      0.00        16\n",
      "        Ocypus ophthalmicus       0.00      0.00      0.00         6\n",
      "         Quedius maurorufus       0.00      0.00      0.00        17\n",
      "          Quedius suturalis       0.00      0.00      0.00        16\n",
      "    Ontholestes tessellatus       0.00      0.00      0.00         7\n",
      "       Bisnius subuliformis       0.00      0.00      0.00        13\n",
      "         Philonthus lepidus       0.00      0.00      0.00        12\n",
      "Heterothops quadripunctulus       0.00      0.00      0.00        12\n",
      "        Philonthus addendus       0.00      0.00      0.00        18\n",
      "          Quedius auricomus       0.00      0.00      0.00        12\n",
      "         Philonthus punctus       0.00      0.00      0.00         8\n",
      "         Quedius levicollis       0.00      0.00      0.00         9\n",
      "               Ocypus olens       0.00      0.00      0.00         5\n",
      "       Ocypus aeneocephalus       0.00      0.00      0.00         9\n",
      "   Ochthephilum fracticorne       0.00      0.00      0.00        37\n",
      "             Quedius scitus       0.00      0.00      0.00         9\n",
      "     Philonthus mannerheimi       0.00      0.00      0.00        11\n",
      " Acylophorus wagenschieberi       0.00      0.00      0.00         8\n",
      "       Astenus immacullatus       0.00      0.00      0.00        26\n",
      "        Quedius brevicornis       0.00      0.00      0.00        13\n",
      "        Quedius fuliginosus       0.00      0.00      0.00        14\n",
      "     Tetartopeus terminatus       0.00      0.00      0.00        45\n",
      "       Platydracus fulvipes       0.00      0.00      0.00         7\n",
      "      Philonthus cruentatus       0.00      0.00      0.00         8\n",
      "        Quedius scintillans       0.00      0.00      0.00        18\n",
      "        Megalinus glabratus       0.00      0.00      0.00         7\n",
      "          Heterothops niger       0.00      0.00      0.00         9\n",
      "          Quedius lateralis       0.00      0.00      0.00        12\n",
      "       Philonthus corruscus       0.00      0.00      0.00         4\n",
      "          Tasgius morsitans       0.00      0.00      0.00         9\n",
      "             Medon ripicola       0.00      0.00      0.00        16\n",
      "     Gyrohypnus punctulatus       0.00      0.00      0.00        17\n",
      "            Quedius cinctus       0.00      0.00      0.00        14\n",
      "     Philonthus longicornis       0.00      0.00      0.00        16\n",
      "           Astenus gracilis       0.00      0.00      0.00        19\n",
      "       Lathrobium brunnipes       0.00      0.00      0.00        58\n",
      "       Bisnius pseudoparcus       0.00      0.00      0.00         5\n",
      "         Quedius infuscatus       0.00      0.00      0.00         4\n",
      "             Quedius maurus       0.00      0.00      0.00        10\n",
      "         Quedius persimilis       0.00      0.00      0.00        12\n",
      "        Gabrius breviventer       0.00      0.00      0.00        17\n",
      "           Scopaeus minutus       0.00      0.00      0.00        19\n",
      "           Bisnius sordidus       0.00      0.00      0.00        50\n",
      "              Ocypus nitens       0.00      0.00      0.00        13\n",
      "         Tasgius melanarius       0.00      0.00      0.00        11\n",
      "       Gauropterus fulgidus       0.00      0.00      0.00        14\n",
      "       Xantholinus gallicus       0.00      0.00      0.00         2\n",
      "         Gabrius nigritulus       0.14      0.04      0.06        26\n",
      "      Philonthus marginatus       0.00      0.00      0.00        33\n",
      "     Philonthus rubripennis       0.00      0.00      0.00        17\n",
      "      Lathrobium fulvipenne       0.00      0.00      0.00        49\n",
      "             Sunius bicolor       0.00      0.00      0.00        18\n",
      "         Tasgius globulifer       0.00      0.00      0.00         5\n",
      "           Astenus procerus       0.00      0.00      0.00        15\n",
      "     Gabrius appendiculatus       0.00      0.00      0.00        12\n",
      "         Philonthus rufipes       0.00      0.00      0.00        12\n",
      "              Quedius boops       0.00      0.00      0.00         7\n",
      "           Quedius cruentus       0.00      0.00      0.00        19\n",
      "         Velleius dilatatus       0.00      0.00      0.00         5\n",
      "   Neobisnius lathrobioides       0.00      0.00      0.00        30\n",
      "        Quedius fulvicollis       0.00      0.00      0.00         2\n",
      "             Medon brunneus       0.00      0.00      0.00        16\n",
      "         Philonthus jurgans       0.00      0.00      0.00         8\n",
      "       Scopaeus sulcicollis       0.00      0.00      0.00        17\n",
      "  Philonthus quisquiliarius       0.00      0.00      0.00        13\n",
      "      Gyrohypnus angustatus       0.00      0.00      0.00         9\n",
      "      Staphylinus caesareus       0.00      0.00      0.00         5\n",
      "          Quedius xanthopus       0.00      0.00      0.00        20\n",
      "       Lithocharis ochracea       0.00      0.00      0.00        39\n",
      "             Bisnius parcus       0.00      0.00      0.00         7\n",
      "       Philonthus binotatus       0.00      0.00      0.00         4\n",
      "     Quedius nigrocaeruleus       0.00      0.00      0.00         4\n",
      "      Pseudomedon obsoletus       0.00      0.00      0.00        12\n",
      "         Philonthus varians       0.00      0.00      0.00        13\n",
      "         Gyrohypnus atratus       0.00      0.00      0.00        10\n",
      "        Ontholestes murinus       0.00      0.00      0.00        11\n",
      "     Xantholinus laevigatus       0.00      0.00      0.00         6\n",
      "        Philonthus corvinus       0.00      0.00      0.00         8\n",
      "       Quedius semiobscurus       0.00      0.00      0.00         8\n",
      "  Heterothops stiglundbergi       0.00      0.00      0.00         3\n",
      "       Philonthus concinnus       0.00      0.00      0.00        14\n",
      "         Philonthus nigrita       0.02      0.09      0.03        11\n",
      "            Nudobius lentus       0.00      0.00      0.00        14\n",
      "         Philonthus debilis       0.05      0.05      0.05        20\n",
      "      Lithocharis nigriceps       0.00      0.00      0.00        16\n",
      "        Philonthus furcifer       0.00      0.00      0.00         8\n",
      "        Philonthus confinis       0.00      0.00      0.00         3\n",
      "         Bisnius cephalotes       0.00      0.00      0.00        35\n",
      "        Philonthus fumarius       0.00      0.00      0.00        16\n",
      "       Lathrobium rufipenne       0.00      0.00      0.00        22\n",
      "          Ocypus picipennis       0.00      0.00      0.00        11\n",
      "         Astenus lyonessius       0.00      0.00      0.00        30\n",
      "           Ocypus brunnipes       0.00      0.00      0.00        11\n",
      "          Rugilus erichsoni       0.00      0.00      0.00        31\n",
      "            Atrecus affinis       0.00      0.00      0.00         9\n",
      "          Bisnius nitidulus       0.00      0.00      0.00        28\n",
      "        Scopaeus laevigatus       0.00      0.00      0.00         2\n",
      "     Philonthus parvicornis       0.00      0.00      0.00         9\n",
      "         Philonthus politus       0.00      0.00      0.00        51\n",
      "            Othius angustus       0.00      0.00      0.00        18\n",
      "       Philonthus ventralis       0.00      0.00      0.00        11\n",
      "        Heterothops minutus       0.00      0.00      0.00         6\n",
      "          Philonthus micans       0.00      0.00      0.00        18\n",
      "         Quedius nitipennis       0.00      0.00      0.00        16\n",
      "    Acylophorus glaberrimus       0.00      0.00      0.00        12\n",
      "             Medon apicalis       0.00      0.00      0.00        12\n",
      "    Leptacinus formicetorum       0.00      0.00      0.00         8\n",
      "    Gyrohypnus fracticornis       0.00      0.00      0.00        15\n",
      "          Gabrius keysianus       0.00      0.00      0.00         8\n",
      "      Tetartopeus quadratus       0.00      0.00      0.00        35\n",
      "         Philonthus salinus       0.00      0.00      0.00        13\n",
      "         Philonthus albipes       0.00      0.00      0.00        30\n",
      "     Leptacinus intermedius       0.00      0.00      0.00         6\n",
      "Staphylinus dimidiaticornis       0.00      0.00      0.00         4\n",
      "          Euryporus picipes       0.00      0.00      0.00         8\n",
      "         Philonthus nitidus       0.00      0.00      0.00        32\n",
      "          Quedius boopoides       0.00      0.00      0.00         6\n",
      "               Tasgius ater       0.00      0.00      0.00         7\n",
      "       Leptacinus batychrus       0.00      0.00      0.00        22\n",
      "         Gabrius austriacus       0.00      0.00      0.00         6\n",
      "         Philonthus decorus       0.00      0.00      0.00        45\n",
      "            Quedius fumatus       0.00      0.00      0.00        16\n",
      "       Xantholinus linearis       0.00      0.00      0.00        12\n",
      "         Philonthus atratus       0.00      0.00      0.00        34\n",
      "Phacophallus parumpunctatus       0.00      0.00      0.00         6\n",
      "            Gabrius exiguus       0.00      0.00      0.00         3\n",
      "             Remus sericeus       0.00      0.00      0.00        24\n",
      "   Platydracus stercorarius       0.00      0.00      0.00        10\n",
      "                Emus hirtus       0.00      0.00      0.00         4\n",
      "  Philonthus sanguinolentus       0.00      0.00      0.00        17\n",
      "      Neobisnius villosulus       0.00      0.00      0.00         7\n",
      "       Gabronthus thermarum       0.00      0.00      0.00         5\n",
      "           Quedius fulgidus       0.00      0.00      0.00         5\n",
      "        Philonthus ebeninus       0.00      0.00      0.00         6\n",
      "             Bisnius puella       0.00      0.00      0.00         7\n",
      "          Quedius lucidulus       0.00      0.00      0.00        17\n",
      "        Othius subuliformis       0.00      0.00      0.00        11\n",
      "       Philonthus laminatus       0.00      0.00      0.00        34\n",
      "           Quedius umbrinus       0.08      0.05      0.06        20\n",
      "       Ochthephilum collare       0.00      0.00      0.00         2\n",
      "            Ocypus fuscatus       0.00      0.00      0.00         8\n",
      "        Leptacinus pusillus       0.00      0.00      0.00         6\n",
      "         Lathrobium fovulum       0.00      0.00      0.00        29\n",
      "             Quedius brevis       0.00      0.00      0.00         8\n",
      "        Paederus littoralis       0.00      0.00      0.00        38\n",
      "            Achenium humile       0.00      0.00      0.00         8\n",
      "          Paederus fuscipes       0.00      0.00      0.00        28\n",
      "         Quedius truncicola       0.00      0.00      0.00         4\n",
      "       Quedius puncticollis       0.89      1.00      0.94        16\n",
      "            Quedius microps       0.00      0.00      0.00        21\n",
      "        Quedius longicornis       0.00      0.00      0.00        15\n",
      "      Quedius simplicifrons       0.00      0.00      0.00         7\n",
      "         Astenus pulchellus       0.00      0.00      0.00        25\n",
      "        Quedius mesomelinus       0.00      0.00      0.00        15\n",
      "     Dinothenarus pubescens       0.00      0.00      0.00         8\n",
      "       Xantholinus tricolor       0.00      0.00      0.00        14\n",
      "        Philonthus cognatus       0.00      0.00      0.00        70\n",
      "        Rugilus orbiculatus       0.00      0.00      0.00        59\n",
      "    Erichsonius cinerascens       0.00      0.00      0.00        36\n",
      "            Medon castaneus       0.00      0.00      0.00         9\n",
      "       Gabrius splendidulus       0.00      0.00      0.00        19\n",
      "    Platydracus latebricola       0.00      0.00      0.00         5\n",
      "            Rugilus rufipes       0.00      0.00      0.00        49\n",
      "      Creophilus maxillosus       0.00      0.00      0.00         9\n",
      "       Lathrobium elongatum       0.00      0.00      0.00        48\n",
      "     Philonthus micantoides       0.00      0.00      0.00         4\n",
      "   Xantholinus longiventris       0.00      0.00      0.00        11\n",
      "        Lathrobium pallidum       0.00      0.00      0.00         9\n",
      "      Sunius melanocephalus       0.81      0.96      0.88        23\n",
      "         Quedius molochinus       0.00      0.00      0.00        14\n",
      "          Gabrius trossulus       0.00      0.00      0.00        10\n",
      "     Heterothops dissimilis       0.00      0.00      0.00         7\n",
      "     Philonthus intermedius       0.00      0.00      0.00        15\n",
      "         Philonthus alpinus       0.00      0.00      0.00         4\n",
      "            Quedius picipes       0.00      0.00      0.00        12\n",
      "       Lathrobium impressum       0.00      0.00      0.00        54\n",
      "      Philonthus discoideus       0.00      0.00      0.00        20\n",
      "          Quedius nigriceps       0.00      0.00      0.00         9\n",
      "          Atrecus longiceps       0.00      0.00      0.00         5\n",
      "        Quedius curtipennis       0.00      0.00      0.00         7\n",
      "         Bisnius fimetarius       0.00      0.00      0.00        60\n",
      "         Lathrobium dilutum       0.00      0.00      0.00         2\n",
      "\n",
      "                  micro avg       0.01      0.01      0.01      3381\n",
      "                  macro avg       0.01      0.01      0.01      3381\n",
      "               weighted avg       0.01      0.01      0.01      3381\n",
      "\n"
     ]
    },
    {
     "name": "stderr",
     "output_type": "stream",
     "text": [
      "/home/herri/.local/lib/python3.5/site-packages/sklearn/metrics/classification.py:1143: UndefinedMetricWarning: Precision and F-score are ill-defined and being set to 0.0 in labels with no predicted samples.\n",
      "  'precision', 'predicted', average, warn_for)\n"
     ]
    }
   ],
   "source": [
    "report = classification_report(val_generator.classes, y_pred, target_names=labels)\n",
    "classification_report_csv(report)\n",
    "print(report)"
   ]
  },
  {
   "cell_type": "code",
   "execution_count": null,
   "metadata": {},
   "outputs": [
    {
     "name": "stdout",
     "output_type": "stream",
     "text": [
      "Confusion matrix, without normalization\n",
      "[[0 0 0 ... 0 0 0]\n",
      " [0 0 0 ... 0 0 0]\n",
      " [0 0 0 ... 0 0 0]\n",
      " ...\n",
      " [0 0 0 ... 0 0 0]\n",
      " [0 0 0 ... 0 0 0]\n",
      " [0 0 0 ... 0 0 0]]\n"
     ]
    },
    {
     "data": {
      "text/plain": [
       "(<Figure size 720x720 with 2 Axes>,\n",
       " <matplotlib.axes._subplots.AxesSubplot at 0x7f63fc4c6128>)"
      ]
     },
     "execution_count": 13,
     "metadata": {},
     "output_type": "execute_result"
    }
   ],
   "source": [
    "y_true = val_generator.classes\n",
    "matplotlib.rcParams['figure.figsize'] = [10, 10]\n",
    "plot_confusion_matrix(y_true, y_pred, np.array(labels))"
   ]
  },
  {
   "cell_type": "code",
   "execution_count": null,
   "metadata": {},
   "outputs": [],
   "source": [
    "labels = (val_generator.class_indices) # dict of label:index\n",
    "labels = dict((i,l) for l,i in labels.items()) # dict of index:label"
   ]
  },
  {
   "cell_type": "code",
   "execution_count": null,
   "metadata": {},
   "outputs": [],
   "source": [
    "# create pd.dataframe and save predictions to .csv\n",
    "filenames=[datasetDir + name for name in val_generator.filenames]\n",
    "y_pred_labels = [labels[y] for y in y_pred]\n",
    "y_true_labels = [labels[y] for y in y_true]\n",
    "y_pred3_labels = []\n",
    "for i,top3 in enumerate(y_pred3):\n",
    "    l = []\n",
    "    for top in top3:\n",
    "        l.append((labels[top], Y_pred[i][top]))\n",
    "    y_pred3_labels.append(l)\n",
    "\n",
    "results=pd.DataFrame({\"Filename\":filenames,\n",
    "                      \"Label\":y_true_labels,\n",
    "                      \"Prediction1\":y_pred_labels,\n",
    "                      \"Prediction3\":y_pred3_labels})\n",
    "results.to_csv(results_file,index=True)"
   ]
  },
  {
   "cell_type": "code",
   "execution_count": null,
   "metadata": {},
   "outputs": [],
   "source": []
  }
 ],
 "metadata": {
  "kernelspec": {
   "display_name": "Python 3",
   "language": "python",
   "name": "python3"
  },
  "language_info": {
   "codemirror_mode": {
    "name": "ipython",
    "version": 3
   },
   "file_extension": ".py",
   "mimetype": "text/x-python",
   "name": "python",
   "nbconvert_exporter": "python",
   "pygments_lexer": "ipython3",
   "version": "3.5.2"
  }
 },
 "nbformat": 4,
 "nbformat_minor": 2
}
