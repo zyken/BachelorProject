{
 "cells": [
  {
   "cell_type": "code",
   "execution_count": 1,
   "metadata": {},
   "outputs": [],
   "source": [
    "%config IPCompleter.greedy=True"
   ]
  },
  {
   "cell_type": "code",
   "execution_count": 2,
   "metadata": {},
   "outputs": [],
   "source": [
    "import sys\n",
    "sys.path.append(\"../..\") # relative path to module toolkit"
   ]
  },
  {
   "cell_type": "code",
   "execution_count": 3,
   "metadata": {},
   "outputs": [
    {
     "name": "stderr",
     "output_type": "stream",
     "text": [
      "Using TensorFlow backend.\n"
     ]
    },
    {
     "name": "stdout",
     "output_type": "stream",
     "text": [
      "tf.estimator package not installed.\n",
      "tf.estimator package not installed.\n"
     ]
    }
   ],
   "source": [
    "from keras.applications import VGG16\n",
    "from keras.layers import Dense, GlobalAveragePooling2D\n",
    "from keras.models import Model, Sequential\n",
    "from keras_preprocessing.image import ImageDataGenerator\n",
    "from keras.callbacks import EarlyStopping, ModelCheckpoint\n",
    "from toolkit import getLabelsFromDir, plot_confusion_matrix\n",
    "from sklearn.metrics import classification_report, confusion_matrix\n",
    "from sklearn.utils import class_weight \n",
    "import numpy as np\n",
    "import os\n",
    "import matplotlib\n",
    "import matplotlib.pyplot as plt\n",
    "%matplotlib inline"
   ]
  },
  {
   "cell_type": "code",
   "execution_count": 5,
   "metadata": {},
   "outputs": [],
   "source": [
    "# setup\n",
    "batch_size = 3\n",
    "train_dir = \"../../../images/images_genus/train/\"\n",
    "val_dir = \"../../../images/images_genus/val/\"\n",
    "train_images = 12263\n",
    "val_images = 3381\n",
    "save_model_name = \"vgg16.h5\"\n",
    "save_plot_name = \"vgg16_trainplot.png\"\n",
    "model_name = 'vgg16_highest_val_acc.h5'"
   ]
  },
  {
   "cell_type": "code",
   "execution_count": 6,
   "metadata": {},
   "outputs": [],
   "source": [
    "steps_per_epoch = int(train_images/batch_size) + 1\n",
    "validation_steps = int(val_images/batch_size) + 1"
   ]
  },
  {
   "cell_type": "code",
   "execution_count": 7,
   "metadata": {},
   "outputs": [
    {
     "name": "stdout",
     "output_type": "stream",
     "text": [
      "22\n",
      "22\n"
     ]
    }
   ],
   "source": [
    "vgg16_model = VGG16(\n",
    "    include_top=True, \n",
    "    weights=None, \n",
    "    input_shape=(224, 224, 3) \n",
    ")\n",
    "\n",
    "vgg16_model.layer\n",
    "\n",
    "model = Sequential()\n",
    "for layer in vgg16_model.layers:\n",
    "    model.add(layer)\n",
    "\n",
    "print(len(model.layers))\n",
    "model.layers.pop()\n",
    "print(len(model.layers))\n",
    "model.add(Dense(44, activation='softmax'))\n",
    "\n",
    "for layer in model.layers:\n",
    "    layer.trainable = True"
   ]
  },
  {
   "cell_type": "code",
   "execution_count": 7,
   "metadata": {},
   "outputs": [
    {
     "name": "stdout",
     "output_type": "stream",
     "text": [
      "_________________________________________________________________\n",
      "Layer (type)                 Output Shape              Param #   \n",
      "=================================================================\n",
      "block1_conv1 (Conv2D)        (None, 224, 224, 64)      1792      \n",
      "_________________________________________________________________\n",
      "block1_conv2 (Conv2D)        (None, 224, 224, 64)      36928     \n",
      "_________________________________________________________________\n",
      "block1_pool (MaxPooling2D)   (None, 112, 112, 64)      0         \n",
      "_________________________________________________________________\n",
      "block2_conv1 (Conv2D)        (None, 112, 112, 128)     73856     \n",
      "_________________________________________________________________\n",
      "block2_conv2 (Conv2D)        (None, 112, 112, 128)     147584    \n",
      "_________________________________________________________________\n",
      "block2_pool (MaxPooling2D)   (None, 56, 56, 128)       0         \n",
      "_________________________________________________________________\n",
      "block3_conv1 (Conv2D)        (None, 56, 56, 256)       295168    \n",
      "_________________________________________________________________\n",
      "block3_conv2 (Conv2D)        (None, 56, 56, 256)       590080    \n",
      "_________________________________________________________________\n",
      "block3_conv3 (Conv2D)        (None, 56, 56, 256)       590080    \n",
      "_________________________________________________________________\n",
      "block3_pool (MaxPooling2D)   (None, 28, 28, 256)       0         \n",
      "_________________________________________________________________\n",
      "block4_conv1 (Conv2D)        (None, 28, 28, 512)       1180160   \n",
      "_________________________________________________________________\n",
      "block4_conv2 (Conv2D)        (None, 28, 28, 512)       2359808   \n",
      "_________________________________________________________________\n",
      "block4_conv3 (Conv2D)        (None, 28, 28, 512)       2359808   \n",
      "_________________________________________________________________\n",
      "block4_pool (MaxPooling2D)   (None, 14, 14, 512)       0         \n",
      "_________________________________________________________________\n",
      "block5_conv1 (Conv2D)        (None, 14, 14, 512)       2359808   \n",
      "_________________________________________________________________\n",
      "block5_conv2 (Conv2D)        (None, 14, 14, 512)       2359808   \n",
      "_________________________________________________________________\n",
      "block5_conv3 (Conv2D)        (None, 14, 14, 512)       2359808   \n",
      "_________________________________________________________________\n",
      "block5_pool (MaxPooling2D)   (None, 7, 7, 512)         0         \n",
      "_________________________________________________________________\n",
      "flatten (Flatten)            (None, 25088)             0         \n",
      "_________________________________________________________________\n",
      "fc1 (Dense)                  (None, 4096)              102764544 \n",
      "_________________________________________________________________\n",
      "fc2 (Dense)                  (None, 4096)              16781312  \n",
      "_________________________________________________________________\n",
      "predictions (Dense)          (None, 1000)              4097000   \n",
      "_________________________________________________________________\n",
      "dense_1 (Dense)              (None, 44)                44044     \n",
      "=================================================================\n",
      "Total params: 138,401,588\n",
      "Trainable params: 138,401,588\n",
      "Non-trainable params: 0\n",
      "_________________________________________________________________\n"
     ]
    }
   ],
   "source": [
    "model.summary()"
   ]
  },
  {
   "cell_type": "code",
   "execution_count": 8,
   "metadata": {},
   "outputs": [],
   "source": [
    "# compile model\n",
    "model.compile(loss='categorical_crossentropy',\n",
    "            optimizer='sgd',\n",
    "            metrics=['accuracy'])\n"
   ]
  },
  {
   "cell_type": "code",
   "execution_count": 9,
   "metadata": {},
   "outputs": [],
   "source": [
    "labels = getLabelsFromDir(train_dir)\n",
    "\n",
    "train_datagen = ImageDataGenerator(rescale=1./255.)\n",
    "val_datagen = ImageDataGenerator(rescale=1./255.)"
   ]
  },
  {
   "cell_type": "code",
   "execution_count": 10,
   "metadata": {},
   "outputs": [
    {
     "name": "stdout",
     "output_type": "stream",
     "text": [
      "Found 12263 images belonging to 44 classes.\n",
      "Found 3381 images belonging to 44 classes.\n"
     ]
    }
   ],
   "source": [
    "train_generator = train_datagen.flow_from_directory(train_dir,\n",
    "                                                    classes=labels,\n",
    "                                                    class_mode=\"categorical\",\n",
    "                                                    batch_size=batch_size,\n",
    "                                                    color_mode='rgb',\n",
    "                                                    target_size=(224, 224),\n",
    "                                                    shuffle=True)\n",
    "val_generator = val_datagen.flow_from_directory(val_dir,\n",
    "                                                    classes=labels,\n",
    "                                                    class_mode=\"categorical\",\n",
    "                                                    batch_size=batch_size,\n",
    "                                                    color_mode='rgb',\n",
    "                                                    target_size=(224, 224),\n",
    "                                                    shuffle=True)"
   ]
  },
  {
   "cell_type": "code",
   "execution_count": 11,
   "metadata": {},
   "outputs": [],
   "source": [
    "filepath = model_name\n",
    "\n",
    "checkpoint = ModelCheckpoint(filepath=filepath,\n",
    "                             monitor='val_acc',\n",
    "                             verbose=1,\n",
    "                             save_best_only=True)\n",
    "\n",
    "early_stop = EarlyStopping(monitor='val_acc', mode='max', patience=4)\n",
    "\n",
    "callbacks = [checkpoint, early_stop]"
   ]
  },
  {
   "cell_type": "code",
   "execution_count": 12,
   "metadata": {},
   "outputs": [],
   "source": [
    "the_class_weight = class_weight.compute_class_weight('balanced', np.unique(train_generator.classes), train_generator.classes)"
   ]
  },
  {
   "cell_type": "code",
   "execution_count": 13,
   "metadata": {},
   "outputs": [
    {
     "name": "stdout",
     "output_type": "stream",
     "text": [
      "Epoch 1/50\n",
      "4088/4088 [==============================] - 618s 151ms/step - loss: 3.1608 - acc: 0.2535 - val_loss: 2.9915 - val_acc: 0.2556\n",
      "\n",
      "Epoch 00001: val_acc improved from -inf to 0.25561, saving model to vgg16_highest_val_acc.h5\n",
      "Epoch 2/50\n",
      "4088/4088 [==============================] - 614s 150ms/step - loss: 2.9740 - acc: 0.2539 - val_loss: 2.9512 - val_acc: 0.2562\n",
      "\n",
      "Epoch 00002: val_acc improved from 0.25561 to 0.25621, saving model to vgg16_highest_val_acc.h5\n",
      "Epoch 3/50\n",
      "4088/4088 [==============================] - 614s 150ms/step - loss: 2.9531 - acc: 0.2538 - val_loss: 2.9391 - val_acc: 0.2562\n",
      "\n",
      "Epoch 00003: val_acc did not improve from 0.25621\n",
      "Epoch 4/50\n",
      "4088/4088 [==============================] - 615s 151ms/step - loss: 2.9449 - acc: 0.2539 - val_loss: 2.9357 - val_acc: 0.2547\n",
      "\n",
      "Epoch 00004: val_acc did not improve from 0.25621\n",
      "Epoch 5/50\n",
      "4088/4088 [==============================] - 623s 152ms/step - loss: 2.9410 - acc: 0.2538 - val_loss: 2.9273 - val_acc: 0.2571\n",
      "\n",
      "Epoch 00005: val_acc improved from 0.25621 to 0.25709, saving model to vgg16_highest_val_acc.h5\n",
      "Epoch 6/50\n",
      "4088/4088 [==============================] - 627s 153ms/step - loss: 2.9385 - acc: 0.2539 - val_loss: 2.9316 - val_acc: 0.2550\n",
      "\n",
      "Epoch 00006: val_acc did not improve from 0.25709\n",
      "Epoch 7/50\n",
      "4088/4088 [==============================] - 634s 155ms/step - loss: 2.9371 - acc: 0.2538 - val_loss: 2.9277 - val_acc: 0.2553\n",
      "\n",
      "Epoch 00007: val_acc did not improve from 0.25709\n",
      "Epoch 8/50\n",
      "4088/4088 [==============================] - 638s 156ms/step - loss: 2.9357 - acc: 0.2539 - val_loss: 2.9247 - val_acc: 0.2562\n",
      "\n",
      "Epoch 00008: val_acc did not improve from 0.25709\n",
      "Epoch 9/50\n",
      "4088/4088 [==============================] - 643s 157ms/step - loss: 2.9350 - acc: 0.2539 - val_loss: 2.9248 - val_acc: 0.2571\n",
      "\n",
      "Epoch 00009: val_acc improved from 0.25709 to 0.25709, saving model to vgg16_highest_val_acc.h5\n",
      "Epoch 10/50\n",
      "4088/4088 [==============================] - 641s 157ms/step - loss: 2.9348 - acc: 0.2539 - val_loss: 2.9251 - val_acc: 0.2547\n",
      "\n",
      "Epoch 00010: val_acc did not improve from 0.25709\n",
      "Epoch 11/50\n",
      "4088/4088 [==============================] - 646s 158ms/step - loss: 2.9342 - acc: 0.2539 - val_loss: 2.9239 - val_acc: 0.2556\n",
      "\n",
      "Epoch 00011: val_acc did not improve from 0.25709\n",
      "Epoch 12/50\n",
      "4088/4088 [==============================] - 646s 158ms/step - loss: 2.9341 - acc: 0.2538 - val_loss: 2.9246 - val_acc: 0.2559\n",
      "\n",
      "Epoch 00012: val_acc did not improve from 0.25709\n",
      "Epoch 13/50\n",
      "4088/4088 [==============================] - 646s 158ms/step - loss: 2.9338 - acc: 0.2538 - val_loss: 2.9269 - val_acc: 0.2559\n",
      "\n",
      "Epoch 00013: val_acc did not improve from 0.25709\n"
     ]
    }
   ],
   "source": [
    "#Train\n",
    "history = model.fit_generator(train_generator,\n",
    "                    steps_per_epoch=steps_per_epoch,\n",
    "                    epochs=50,\n",
    "                    callbacks=callbacks,\n",
    "                    validation_data=val_generator,\n",
    "                    validation_steps=validation_steps,\n",
    "                    class_weight=the_class_weight)"
   ]
  },
  {
   "cell_type": "code",
   "execution_count": 14,
   "metadata": {},
   "outputs": [
    {
     "data": {
      "image/png": "[encoded data removed]",
      "text/plain": [
       "<Figure size 432x288 with 1 Axes>"
      ]
     },
     "metadata": {
      "needs_background": "light"
     },
     "output_type": "display_data"
    }
   ],
   "source": [
    "plt.plot(history.history['acc'], label='training accuracy')\n",
    "plt.plot(history.history['val_acc'], label='validation accuracy')\n",
    "plt.title('Accuracy')\n",
    "plt.xlabel('epochs')\n",
    "plt.ylabel('accuracy')\n",
    "plt.legend()\n",
    "plt.savefig(save_plot_name, bbox_inches='tight')\n",
    "plt.show()"
   ]
  },
  {
   "cell_type": "code",
   "execution_count": 15,
   "metadata": {},
   "outputs": [],
   "source": [
    "#save\n",
    "model.save(save_model_name)"
   ]
  }
 ],
 "metadata": {
  "kernelspec": {
   "display_name": "Python 3",
   "language": "python",
   "name": "python3"
  },
  "language_info": {
   "codemirror_mode": {
    "name": "ipython",
    "version": 2
   },
   "file_extension": ".py",
   "mimetype": "text/x-python",
   "name": "python",
   "nbconvert_exporter": "python",
   "pygments_lexer": "ipython2",
   "version": "2.7.12"
  }
 },
 "nbformat": 4,
 "nbformat_minor": 2
}
