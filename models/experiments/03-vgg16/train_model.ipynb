{
 "cells": [
  {
   "cell_type": "code",
   "execution_count": 1,
   "metadata": {},
   "outputs": [],
   "source": [
    "%config IPCompleter.greedy=True"
   ]
  },
  {
   "cell_type": "code",
   "execution_count": 2,
   "metadata": {},
   "outputs": [],
   "source": [
    "import sys\n",
    "sys.path.append(\"../..\") # relative path to module toolkit"
   ]
  },
  {
   "cell_type": "code",
   "execution_count": 3,
   "metadata": {},
   "outputs": [
    {
     "name": "stderr",
     "output_type": "stream",
     "text": [
      "Using TensorFlow backend.\n"
     ]
    }
   ],
   "source": [
    "from keras.applications import VGG16\n",
    "from keras.layers import Dense, GlobalAveragePooling2D, Flatten\n",
    "from keras.models import Model, Sequential\n",
    "from keras_preprocessing.image import ImageDataGenerator\n",
    "from keras.callbacks import EarlyStopping, ModelCheckpoint\n",
    "from toolkit import getLabelsFromDir, plot_confusion_matrix\n",
    "from sklearn.metrics import classification_report, confusion_matrix\n",
    "from sklearn.utils import class_weight \n",
    "import numpy as np\n",
    "import os\n",
    "import matplotlib\n",
    "import matplotlib.pyplot as plt\n",
    "%matplotlib inline"
   ]
  },
  {
   "cell_type": "code",
   "execution_count": 4,
   "metadata": {},
   "outputs": [],
   "source": [
    "# setup\n",
    "batch_size = 3\n",
    "train_dir = \"../../../images/images_genus/train/\"\n",
    "val_dir = \"../../../images/images_genus/val/\"\n",
    "train_images = 12263\n",
    "val_images = 3381\n",
    "save_model_name = \"vgg16.h5\"\n",
    "save_plot_name = \"vgg16_trainplot.png\"\n",
    "model_name = 'vgg16_highest_val_acc.h5'"
   ]
  },
  {
   "cell_type": "code",
   "execution_count": 5,
   "metadata": {},
   "outputs": [],
   "source": [
    "steps_per_epoch = int(train_images/batch_size) + 1\n",
    "validation_steps = int(val_images/batch_size) + 1"
   ]
  },
  {
   "cell_type": "code",
   "execution_count": 6,
   "metadata": {},
   "outputs": [
    {
     "name": "stderr",
     "output_type": "stream",
     "text": [
      "/home/herri/.local/lib/python3.5/site-packages/ipykernel_launcher.py:13: UserWarning: Update your `Model` call to the Keras 2 API: `Model(inputs=Tensor(\"in..., outputs=Tensor(\"de...)`\n",
      "  del sys.path[0]\n"
     ]
    }
   ],
   "source": [
    "vgg16_model = VGG16(\n",
    "    include_top=False, \n",
    "    weights=None, \n",
    "    input_shape=(224, 224, 3) \n",
    ")\n",
    "\n",
    "x = vgg16_model.output\n",
    "x = Flatten()(x)\n",
    "x = Dense(4096, activation='relu')(x)\n",
    "x = Dense(4096, activation='relu')(x)\n",
    "predictions = Dense(44, activation='softmax')(x)\n",
    "\n",
    "model = Model(input=vgg16_model.input, output=predictions)\n",
    "\n",
    "for layer in model.layers:\n",
    "    layer.trainable = True"
   ]
  },
  {
   "cell_type": "code",
   "execution_count": 7,
   "metadata": {},
   "outputs": [
    {
     "name": "stdout",
     "output_type": "stream",
     "text": [
      "_________________________________________________________________\n",
      "Layer (type)                 Output Shape              Param #   \n",
      "=================================================================\n",
      "input_1 (InputLayer)         (None, 224, 224, 3)       0         \n",
      "_________________________________________________________________\n",
      "block1_conv1 (Conv2D)        (None, 224, 224, 64)      1792      \n",
      "_________________________________________________________________\n",
      "block1_conv2 (Conv2D)        (None, 224, 224, 64)      36928     \n",
      "_________________________________________________________________\n",
      "block1_pool (MaxPooling2D)   (None, 112, 112, 64)      0         \n",
      "_________________________________________________________________\n",
      "block2_conv1 (Conv2D)        (None, 112, 112, 128)     73856     \n",
      "_________________________________________________________________\n",
      "block2_conv2 (Conv2D)        (None, 112, 112, 128)     147584    \n",
      "_________________________________________________________________\n",
      "block2_pool (MaxPooling2D)   (None, 56, 56, 128)       0         \n",
      "_________________________________________________________________\n",
      "block3_conv1 (Conv2D)        (None, 56, 56, 256)       295168    \n",
      "_________________________________________________________________\n",
      "block3_conv2 (Conv2D)        (None, 56, 56, 256)       590080    \n",
      "_________________________________________________________________\n",
      "block3_conv3 (Conv2D)        (None, 56, 56, 256)       590080    \n",
      "_________________________________________________________________\n",
      "block3_pool (MaxPooling2D)   (None, 28, 28, 256)       0         \n",
      "_________________________________________________________________\n",
      "block4_conv1 (Conv2D)        (None, 28, 28, 512)       1180160   \n",
      "_________________________________________________________________\n",
      "block4_conv2 (Conv2D)        (None, 28, 28, 512)       2359808   \n",
      "_________________________________________________________________\n",
      "block4_conv3 (Conv2D)        (None, 28, 28, 512)       2359808   \n",
      "_________________________________________________________________\n",
      "block4_pool (MaxPooling2D)   (None, 14, 14, 512)       0         \n",
      "_________________________________________________________________\n",
      "block5_conv1 (Conv2D)        (None, 14, 14, 512)       2359808   \n",
      "_________________________________________________________________\n",
      "block5_conv2 (Conv2D)        (None, 14, 14, 512)       2359808   \n",
      "_________________________________________________________________\n",
      "block5_conv3 (Conv2D)        (None, 14, 14, 512)       2359808   \n",
      "_________________________________________________________________\n",
      "block5_pool (MaxPooling2D)   (None, 7, 7, 512)         0         \n",
      "_________________________________________________________________\n",
      "flatten_1 (Flatten)          (None, 25088)             0         \n",
      "_________________________________________________________________\n",
      "dense_1 (Dense)              (None, 4096)              102764544 \n",
      "_________________________________________________________________\n",
      "dense_2 (Dense)              (None, 4096)              16781312  \n",
      "_________________________________________________________________\n",
      "dense_3 (Dense)              (None, 44)                180268    \n",
      "=================================================================\n",
      "Total params: 134,440,812\n",
      "Trainable params: 134,440,812\n",
      "Non-trainable params: 0\n",
      "_________________________________________________________________\n"
     ]
    }
   ],
   "source": [
    "model.summary()"
   ]
  },
  {
   "cell_type": "code",
   "execution_count": 8,
   "metadata": {},
   "outputs": [],
   "source": [
    "# compile model\n",
    "model.compile(loss='categorical_crossentropy',\n",
    "            optimizer='sgd',\n",
    "            metrics=['accuracy'])\n"
   ]
  },
  {
   "cell_type": "code",
   "execution_count": 9,
   "metadata": {},
   "outputs": [],
   "source": [
    "labels = getLabelsFromDir(train_dir)\n",
    "\n",
    "train_datagen = ImageDataGenerator(rescale=1./255.)\n",
    "val_datagen = ImageDataGenerator(rescale=1./255.)"
   ]
  },
  {
   "cell_type": "code",
   "execution_count": 10,
   "metadata": {},
   "outputs": [
    {
     "name": "stdout",
     "output_type": "stream",
     "text": [
      "Found 12263 images belonging to 44 classes.\n",
      "Found 3381 images belonging to 44 classes.\n"
     ]
    }
   ],
   "source": [
    "train_generator = train_datagen.flow_from_directory(train_dir,\n",
    "                                                    classes=labels,\n",
    "                                                    class_mode=\"categorical\",\n",
    "                                                    batch_size=batch_size,\n",
    "                                                    color_mode='rgb',\n",
    "                                                    target_size=(224, 224),\n",
    "                                                    shuffle=True,\n",
    "                                                    seed=1)\n",
    "val_generator = val_datagen.flow_from_directory(val_dir,\n",
    "                                                    classes=labels,\n",
    "                                                    class_mode=\"categorical\",\n",
    "                                                    batch_size=batch_size,\n",
    "                                                    color_mode='rgb',\n",
    "                                                    target_size=(224, 224),\n",
    "                                                    shuffle=True,\n",
    "                                                    seed=1)"
   ]
  },
  {
   "cell_type": "code",
   "execution_count": 11,
   "metadata": {},
   "outputs": [],
   "source": [
    "filepath = model_name\n",
    "\n",
    "checkpoint = ModelCheckpoint(filepath=filepath,\n",
    "                             monitor='val_acc',\n",
    "                             verbose=1,\n",
    "                             save_best_only=True)\n",
    "\n",
    "early_stop = EarlyStopping(monitor='val_acc', mode='max', patience=4)\n",
    "\n",
    "callbacks = [checkpoint, early_stop]"
   ]
  },
  {
   "cell_type": "code",
   "execution_count": 12,
   "metadata": {},
   "outputs": [],
   "source": [
    "the_class_weight = class_weight.compute_class_weight('balanced', np.unique(train_generator.classes), train_generator.classes)"
   ]
  },
  {
   "cell_type": "code",
   "execution_count": 13,
   "metadata": {},
   "outputs": [
    {
     "name": "stdout",
     "output_type": "stream",
     "text": [
      "Epoch 1/50\n",
      "4088/4088 [==============================] - 653s 160ms/step - loss: 2.9835 - acc: 0.2512 - val_loss: 2.9341 - val_acc: 0.2562\n",
      "\n",
      "Epoch 00001: val_acc improved from -inf to 0.25621, saving model to vgg16_highest_val_acc.h5\n",
      "Epoch 2/50\n",
      "4088/4088 [==============================] - 648s 159ms/step - loss: 2.3406 - acc: 0.3664 - val_loss: 1.4814 - val_acc: 0.5390\n",
      "\n",
      "Epoch 00002: val_acc improved from 0.25621 to 0.53901, saving model to vgg16_highest_val_acc.h5\n",
      "Epoch 3/50\n",
      "4088/4088 [==============================] - 648s 159ms/step - loss: 1.1167 - acc: 0.6500 - val_loss: 1.0936 - val_acc: 0.6566\n",
      "\n",
      "Epoch 00003: val_acc improved from 0.53901 to 0.65662, saving model to vgg16_highest_val_acc.h5\n",
      "Epoch 4/50\n",
      "4088/4088 [==============================] - 648s 159ms/step - loss: 0.6829 - acc: 0.7789 - val_loss: 0.6982 - val_acc: 0.7763\n",
      "\n",
      "Epoch 00004: val_acc improved from 0.65662 to 0.77630, saving model to vgg16_highest_val_acc.h5\n",
      "Epoch 5/50\n",
      "4088/4088 [==============================] - 648s 159ms/step - loss: 0.4501 - acc: 0.8518 - val_loss: 0.5014 - val_acc: 0.8330\n",
      "\n",
      "Epoch 00005: val_acc improved from 0.77630 to 0.83304, saving model to vgg16_highest_val_acc.h5\n",
      "Epoch 6/50\n",
      "4088/4088 [==============================] - 648s 158ms/step - loss: 0.3128 - acc: 0.8962 - val_loss: 0.6416 - val_acc: 0.7979\n",
      "\n",
      "Epoch 00006: val_acc did not improve from 0.83304\n",
      "Epoch 7/50\n",
      "4088/4088 [==============================] - 649s 159ms/step - loss: 0.2098 - acc: 0.9315 - val_loss: 0.4251 - val_acc: 0.8682\n",
      "\n",
      "Epoch 00007: val_acc improved from 0.83304 to 0.86820, saving model to vgg16_highest_val_acc.h5\n",
      "Epoch 8/50\n",
      "4088/4088 [==============================] - 648s 158ms/step - loss: 0.1724 - acc: 0.9468 - val_loss: 0.5357 - val_acc: 0.8499\n",
      "\n",
      "Epoch 00008: val_acc did not improve from 0.86820\n",
      "Epoch 9/50\n",
      "4088/4088 [==============================] - 649s 159ms/step - loss: 0.1236 - acc: 0.9601 - val_loss: 0.4171 - val_acc: 0.8720\n",
      "\n",
      "Epoch 00009: val_acc improved from 0.86820 to 0.87204, saving model to vgg16_highest_val_acc.h5\n",
      "Epoch 10/50\n",
      "4088/4088 [==============================] - 648s 158ms/step - loss: 0.1057 - acc: 0.9669 - val_loss: 0.6525 - val_acc: 0.8404\n",
      "\n",
      "Epoch 00010: val_acc did not improve from 0.87204\n",
      "Epoch 11/50\n",
      "4088/4088 [==============================] - 649s 159ms/step - loss: 0.0824 - acc: 0.9752 - val_loss: 0.5159 - val_acc: 0.8762\n",
      "\n",
      "Epoch 00011: val_acc improved from 0.87204 to 0.87618, saving model to vgg16_highest_val_acc.h5\n",
      "Epoch 12/50\n",
      "4088/4088 [==============================] - 648s 158ms/step - loss: 0.0755 - acc: 0.9782 - val_loss: 0.3807 - val_acc: 0.8836\n",
      "\n",
      "Epoch 00012: val_acc improved from 0.87618 to 0.88357, saving model to vgg16_highest_val_acc.h5\n",
      "Epoch 13/50\n",
      "4088/4088 [==============================] - 647s 158ms/step - loss: 0.0595 - acc: 0.9830 - val_loss: 0.3855 - val_acc: 0.8998\n",
      "\n",
      "Epoch 00013: val_acc improved from 0.88357 to 0.89982, saving model to vgg16_highest_val_acc.h5\n",
      "Epoch 14/50\n",
      "4088/4088 [==============================] - 647s 158ms/step - loss: 0.0704 - acc: 0.9806 - val_loss: 0.3015 - val_acc: 0.9122\n",
      "\n",
      "Epoch 00014: val_acc improved from 0.89982 to 0.91223, saving model to vgg16_highest_val_acc.h5\n",
      "Epoch 15/50\n",
      "4088/4088 [==============================] - 646s 158ms/step - loss: 0.0594 - acc: 0.9824 - val_loss: 0.3036 - val_acc: 0.9158\n",
      "\n",
      "Epoch 00015: val_acc improved from 0.91223 to 0.91578, saving model to vgg16_highest_val_acc.h5\n",
      "Epoch 16/50\n",
      "4088/4088 [==============================] - 646s 158ms/step - loss: 0.0385 - acc: 0.9892 - val_loss: 0.4042 - val_acc: 0.9019\n",
      "\n",
      "Epoch 00016: val_acc did not improve from 0.91578\n",
      "Epoch 17/50\n",
      "4088/4088 [==============================] - 648s 159ms/step - loss: 0.0381 - acc: 0.9878 - val_loss: 0.3399 - val_acc: 0.9184\n",
      "\n",
      "Epoch 00017: val_acc improved from 0.91578 to 0.91844, saving model to vgg16_highest_val_acc.h5\n",
      "Epoch 18/50\n",
      "4088/4088 [==============================] - 647s 158ms/step - loss: 0.0385 - acc: 0.9901 - val_loss: 0.3455 - val_acc: 0.9235\n",
      "\n",
      "Epoch 00018: val_acc improved from 0.91844 to 0.92346, saving model to vgg16_highest_val_acc.h5\n",
      "Epoch 19/50\n",
      "4088/4088 [==============================] - 647s 158ms/step - loss: 0.0367 - acc: 0.9899 - val_loss: 0.3131 - val_acc: 0.9146\n",
      "\n",
      "Epoch 00019: val_acc did not improve from 0.92346\n",
      "Epoch 20/50\n",
      "4088/4088 [==============================] - 649s 159ms/step - loss: 0.0299 - acc: 0.9920 - val_loss: 0.3336 - val_acc: 0.9105\n",
      "\n",
      "Epoch 00020: val_acc did not improve from 0.92346\n",
      "Epoch 21/50\n",
      "4088/4088 [==============================] - 649s 159ms/step - loss: 0.0215 - acc: 0.9943 - val_loss: 0.3428 - val_acc: 0.9235\n",
      "\n",
      "Epoch 00021: val_acc improved from 0.92346 to 0.92346, saving model to vgg16_highest_val_acc.h5\n",
      "Epoch 22/50\n",
      "4088/4088 [==============================] - 647s 158ms/step - loss: 0.0265 - acc: 0.9930 - val_loss: 0.3201 - val_acc: 0.9193\n",
      "\n",
      "Epoch 00022: val_acc did not improve from 0.92346\n",
      "Epoch 23/50\n",
      "4088/4088 [==============================] - 648s 158ms/step - loss: 0.0197 - acc: 0.9947 - val_loss: 0.3102 - val_acc: 0.9202\n",
      "\n",
      "Epoch 00023: val_acc did not improve from 0.92346\n",
      "Epoch 24/50\n",
      "4088/4088 [==============================] - 649s 159ms/step - loss: 0.0171 - acc: 0.9949 - val_loss: 0.3505 - val_acc: 0.9294\n",
      "\n",
      "Epoch 00024: val_acc improved from 0.92346 to 0.92937, saving model to vgg16_highest_val_acc.h5\n",
      "Epoch 25/50\n",
      "4088/4088 [==============================] - 646s 158ms/step - loss: 0.0017 - acc: 0.9997 - val_loss: 0.3632 - val_acc: 0.9267\n",
      "\n",
      "Epoch 00025: val_acc did not improve from 0.92937\n",
      "Epoch 26/50\n",
      "4088/4088 [==============================] - 645s 158ms/step - loss: 0.0061 - acc: 0.9981 - val_loss: 0.3459 - val_acc: 0.9300\n",
      "\n",
      "Epoch 00026: val_acc improved from 0.92937 to 0.92996, saving model to vgg16_highest_val_acc.h5\n",
      "Epoch 27/50\n",
      "4088/4088 [==============================] - 644s 158ms/step - loss: 9.8688e-05 - acc: 1.0000 - val_loss: 0.3760 - val_acc: 0.9332\n",
      "\n",
      "Epoch 00027: val_acc improved from 0.92996 to 0.93322, saving model to vgg16_highest_val_acc.h5\n",
      "Epoch 28/50\n",
      "4088/4088 [==============================] - 646s 158ms/step - loss: 1.4551e-05 - acc: 1.0000 - val_loss: 0.3979 - val_acc: 0.9294\n",
      "\n",
      "Epoch 00028: val_acc did not improve from 0.93322\n",
      "Epoch 29/50\n",
      "4088/4088 [==============================] - 648s 158ms/step - loss: 9.7759e-06 - acc: 1.0000 - val_loss: 0.3996 - val_acc: 0.9306\n",
      "\n",
      "Epoch 00029: val_acc did not improve from 0.93322\n",
      "Epoch 30/50\n",
      "4088/4088 [==============================] - 648s 158ms/step - loss: 7.3699e-06 - acc: 1.0000 - val_loss: 0.3825 - val_acc: 0.9335\n",
      "\n",
      "Epoch 00030: val_acc improved from 0.93322 to 0.93351, saving model to vgg16_highest_val_acc.h5\n",
      "Epoch 31/50\n",
      "4088/4088 [==============================] - 647s 158ms/step - loss: 5.9032e-06 - acc: 1.0000 - val_loss: 0.4101 - val_acc: 0.9320\n",
      "\n",
      "Epoch 00031: val_acc did not improve from 0.93351\n",
      "Epoch 32/50\n",
      "4088/4088 [==============================] - 647s 158ms/step - loss: 4.9123e-06 - acc: 1.0000 - val_loss: 0.3964 - val_acc: 0.9335\n",
      "\n",
      "Epoch 00032: val_acc improved from 0.93351 to 0.93351, saving model to vgg16_highest_val_acc.h5\n",
      "Epoch 33/50\n",
      "4088/4088 [==============================] - 647s 158ms/step - loss: 4.1999e-06 - acc: 1.0000 - val_loss: 0.4202 - val_acc: 0.9320\n",
      "\n",
      "Epoch 00033: val_acc did not improve from 0.93351\n",
      "Epoch 34/50\n",
      "4088/4088 [==============================] - 648s 158ms/step - loss: 3.6629e-06 - acc: 1.0000 - val_loss: 0.4024 - val_acc: 0.9320\n",
      "\n",
      "Epoch 00034: val_acc did not improve from 0.93351\n",
      "Epoch 35/50\n",
      "4088/4088 [==============================] - 648s 158ms/step - loss: 3.2452e-06 - acc: 1.0000 - val_loss: 0.4142 - val_acc: 0.9332\n",
      "\n",
      "Epoch 00035: val_acc did not improve from 0.93351\n",
      "Epoch 36/50\n",
      "4088/4088 [==============================] - 648s 158ms/step - loss: 2.9106e-06 - acc: 1.0000 - val_loss: 0.4114 - val_acc: 0.9341\n",
      "\n",
      "Epoch 00036: val_acc improved from 0.93351 to 0.93410, saving model to vgg16_highest_val_acc.h5\n",
      "Epoch 37/50\n",
      "4088/4088 [==============================] - 647s 158ms/step - loss: 2.6373e-06 - acc: 1.0000 - val_loss: 0.4250 - val_acc: 0.9314\n",
      "\n",
      "Epoch 00037: val_acc did not improve from 0.93410\n",
      "Epoch 38/50\n",
      "4088/4088 [==============================] - 648s 158ms/step - loss: 2.4094e-06 - acc: 1.0000 - val_loss: 0.4274 - val_acc: 0.9341\n",
      "\n",
      "Epoch 00038: val_acc did not improve from 0.93410\n",
      "Epoch 39/50\n"
     ]
    },
    {
     "name": "stdout",
     "output_type": "stream",
     "text": [
      "4088/4088 [==============================] - 648s 158ms/step - loss: 2.2176e-06 - acc: 1.0000 - val_loss: 0.4032 - val_acc: 0.9335\n",
      "\n",
      "Epoch 00039: val_acc did not improve from 0.93410\n",
      "Epoch 40/50\n",
      "4088/4088 [==============================] - 648s 158ms/step - loss: 2.0531e-06 - acc: 1.0000 - val_loss: 0.4357 - val_acc: 0.9317\n",
      "\n",
      "Epoch 00040: val_acc did not improve from 0.93410\n"
     ]
    }
   ],
   "source": [
    "#Train\n",
    "history = model.fit_generator(train_generator,\n",
    "                    steps_per_epoch=steps_per_epoch,\n",
    "                    epochs=50,\n",
    "                    callbacks=callbacks,\n",
    "                    validation_data=val_generator,\n",
    "                    validation_steps=validation_steps,\n",
    "                    class_weight=the_class_weight)"
   ]
  },
  {
   "cell_type": "code",
   "execution_count": 14,
   "metadata": {},
   "outputs": [
    {
     "data": {
      "image/png": "[encoded data removed]",
      "text/plain": [
       "<Figure size 432x288 with 1 Axes>"
      ]
     },
     "metadata": {
      "needs_background": "light"
     },
     "output_type": "display_data"
    }
   ],
   "source": [
    "plt.plot(history.history['acc'], label='training accuracy')\n",
    "plt.plot(history.history['val_acc'], label='validation accuracy')\n",
    "plt.title('Accuracy')\n",
    "plt.xlabel('epochs')\n",
    "plt.ylabel('accuracy')\n",
    "plt.legend()\n",
    "plt.savefig(save_plot_name, bbox_inches='tight')\n",
    "plt.show()"
   ]
  },
  {
   "cell_type": "code",
   "execution_count": 15,
   "metadata": {},
   "outputs": [],
   "source": [
    "#save\n",
    "model.save(save_model_name)"
   ]
  },
  {
   "cell_type": "code",
   "execution_count": null,
   "metadata": {},
   "outputs": [],
   "source": []
  }
 ],
 "metadata": {
  "kernelspec": {
   "display_name": "Python 3",
   "language": "python",
   "name": "python3"
  },
  "language_info": {
   "codemirror_mode": {
    "name": "ipython",
    "version": 3
   },
   "file_extension": ".py",
   "mimetype": "text/x-python",
   "name": "python",
   "nbconvert_exporter": "python",
   "pygments_lexer": "ipython3",
   "version": "3.5.2"
  }
 },
 "nbformat": 4,
 "nbformat_minor": 2
}
