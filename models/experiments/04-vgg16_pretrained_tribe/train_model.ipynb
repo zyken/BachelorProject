{
 "cells": [
  {
   "cell_type": "code",
   "execution_count": 1,
   "metadata": {},
   "outputs": [],
   "source": [
    "%config IPCompleter.greedy=True"
   ]
  },
  {
   "cell_type": "code",
   "execution_count": 2,
   "metadata": {},
   "outputs": [],
   "source": [
    "import sys\n",
    "sys.path.append(\"../..\") # relative path to module toolkit"
   ]
  },
  {
   "cell_type": "code",
   "execution_count": 3,
   "metadata": {},
   "outputs": [
    {
     "name": "stderr",
     "output_type": "stream",
     "text": [
      "Using TensorFlow backend.\n"
     ]
    }
   ],
   "source": [
    "from keras.applications import VGG16\n",
    "from keras.layers import Dense, GlobalAveragePooling2D\n",
    "from keras.models import Model, Sequential\n",
    "from keras_preprocessing.image import ImageDataGenerator\n",
    "from keras.callbacks import EarlyStopping, ModelCheckpoint\n",
    "from toolkit import getLabelsFromDir, plot_confusion_matrix\n",
    "from sklearn.metrics import classification_report, confusion_matrix\n",
    "from sklearn.utils import class_weight \n",
    "import numpy as np\n",
    "import os\n",
    "import matplotlib\n",
    "import matplotlib.pyplot as plt\n",
    "%matplotlib inline"
   ]
  },
  {
   "cell_type": "code",
   "execution_count": 4,
   "metadata": {},
   "outputs": [],
   "source": [
    "# setup\n",
    "batch_size = 3\n",
    "train_dir = \"../../../images/images_tribe/train/\"\n",
    "val_dir = \"../../../images/images_tribe/val/\"\n",
    "train_images = 12263\n",
    "val_images = 3381\n",
    "save_model_name = \"vgg16pretrained_tribe.h5\"\n",
    "save_plot_name = \"vgg16pretrained_trainplot_tribe.png\"\n",
    "model_name = 'vgg16pretrained_highest_val_acc_tribe.h5'"
   ]
  },
  {
   "cell_type": "code",
   "execution_count": 5,
   "metadata": {},
   "outputs": [],
   "source": [
    "steps_per_epoch = int(train_images/batch_size) + 1\n",
    "validation_steps = int(val_images/batch_size) + 1"
   ]
  },
  {
   "cell_type": "code",
   "execution_count": 6,
   "metadata": {},
   "outputs": [],
   "source": [
    "vgg16_model = VGG16(\n",
    "    include_top=True, \n",
    "    weights=\"imagenet\", \n",
    "    input_shape=(224, 224, 3)\n",
    ")\n",
    "\n",
    "vgg16_model.layers.pop()\n",
    "\n",
    "model = Sequential()\n",
    "for layer in vgg16_model.layers:\n",
    "    model.add(layer)\n",
    "\n",
    "model.add(Dense(4, activation='softmax'))\n",
    "\n",
    "for layer in model.layers:\n",
    "    layer.trainable = True"
   ]
  },
  {
   "cell_type": "code",
   "execution_count": 7,
   "metadata": {},
   "outputs": [
    {
     "name": "stdout",
     "output_type": "stream",
     "text": [
      "_________________________________________________________________\n",
      "Layer (type)                 Output Shape              Param #   \n",
      "=================================================================\n",
      "block1_conv1 (Conv2D)        (None, 224, 224, 64)      1792      \n",
      "_________________________________________________________________\n",
      "block1_conv2 (Conv2D)        (None, 224, 224, 64)      36928     \n",
      "_________________________________________________________________\n",
      "block1_pool (MaxPooling2D)   (None, 112, 112, 64)      0         \n",
      "_________________________________________________________________\n",
      "block2_conv1 (Conv2D)        (None, 112, 112, 128)     73856     \n",
      "_________________________________________________________________\n",
      "block2_conv2 (Conv2D)        (None, 112, 112, 128)     147584    \n",
      "_________________________________________________________________\n",
      "block2_pool (MaxPooling2D)   (None, 56, 56, 128)       0         \n",
      "_________________________________________________________________\n",
      "block3_conv1 (Conv2D)        (None, 56, 56, 256)       295168    \n",
      "_________________________________________________________________\n",
      "block3_conv2 (Conv2D)        (None, 56, 56, 256)       590080    \n",
      "_________________________________________________________________\n",
      "block3_conv3 (Conv2D)        (None, 56, 56, 256)       590080    \n",
      "_________________________________________________________________\n",
      "block3_pool (MaxPooling2D)   (None, 28, 28, 256)       0         \n",
      "_________________________________________________________________\n",
      "block4_conv1 (Conv2D)        (None, 28, 28, 512)       1180160   \n",
      "_________________________________________________________________\n",
      "block4_conv2 (Conv2D)        (None, 28, 28, 512)       2359808   \n",
      "_________________________________________________________________\n",
      "block4_conv3 (Conv2D)        (None, 28, 28, 512)       2359808   \n",
      "_________________________________________________________________\n",
      "block4_pool (MaxPooling2D)   (None, 14, 14, 512)       0         \n",
      "_________________________________________________________________\n",
      "block5_conv1 (Conv2D)        (None, 14, 14, 512)       2359808   \n",
      "_________________________________________________________________\n",
      "block5_conv2 (Conv2D)        (None, 14, 14, 512)       2359808   \n",
      "_________________________________________________________________\n",
      "block5_conv3 (Conv2D)        (None, 14, 14, 512)       2359808   \n",
      "_________________________________________________________________\n",
      "block5_pool (MaxPooling2D)   (None, 7, 7, 512)         0         \n",
      "_________________________________________________________________\n",
      "flatten (Flatten)            (None, 25088)             0         \n",
      "_________________________________________________________________\n",
      "fc1 (Dense)                  (None, 4096)              102764544 \n",
      "_________________________________________________________________\n",
      "fc2 (Dense)                  (None, 4096)              16781312  \n",
      "_________________________________________________________________\n",
      "dense_1 (Dense)              (None, 4)                 16388     \n",
      "=================================================================\n",
      "Total params: 134,276,932\n",
      "Trainable params: 134,276,932\n",
      "Non-trainable params: 0\n",
      "_________________________________________________________________\n"
     ]
    }
   ],
   "source": [
    "model.summary()"
   ]
  },
  {
   "cell_type": "code",
   "execution_count": 8,
   "metadata": {},
   "outputs": [],
   "source": [
    "# compile model\n",
    "model.compile(loss='categorical_crossentropy',\n",
    "            optimizer='sgd',\n",
    "            metrics=['accuracy'])\n"
   ]
  },
  {
   "cell_type": "code",
   "execution_count": 9,
   "metadata": {},
   "outputs": [],
   "source": [
    "labels = getLabelsFromDir(train_dir)\n",
    "\n",
    "train_datagen = ImageDataGenerator(rescale=1./255.)\n",
    "val_datagen = ImageDataGenerator(rescale=1./255.)"
   ]
  },
  {
   "cell_type": "code",
   "execution_count": 10,
   "metadata": {},
   "outputs": [
    {
     "name": "stdout",
     "output_type": "stream",
     "text": [
      "Found 12263 images belonging to 4 classes.\n",
      "Found 3381 images belonging to 4 classes.\n"
     ]
    }
   ],
   "source": [
    "train_generator = train_datagen.flow_from_directory(train_dir,\n",
    "                                                    classes=labels,\n",
    "                                                    class_mode=\"categorical\",\n",
    "                                                    batch_size=batch_size,\n",
    "                                                    color_mode='rgb',\n",
    "                                                    target_size=(224, 224),\n",
    "                                                    shuffle=True)\n",
    "val_generator = val_datagen.flow_from_directory(val_dir,\n",
    "                                                    classes=labels,\n",
    "                                                    class_mode=\"categorical\",\n",
    "                                                    batch_size=batch_size,\n",
    "                                                    color_mode='rgb',\n",
    "                                                    target_size=(224, 224),\n",
    "                                                    shuffle=True)"
   ]
  },
  {
   "cell_type": "code",
   "execution_count": 11,
   "metadata": {},
   "outputs": [],
   "source": [
    "filepath = model_name\n",
    "\n",
    "checkpoint = ModelCheckpoint(filepath=filepath,\n",
    "                             monitor='val_acc',\n",
    "                             verbose=1,\n",
    "                             save_best_only=True)\n",
    "\n",
    "early_stop = EarlyStopping(monitor='val_acc', mode='max', patience=4)\n",
    "\n",
    "callbacks = [checkpoint, early_stop]"
   ]
  },
  {
   "cell_type": "code",
   "execution_count": 12,
   "metadata": {},
   "outputs": [],
   "source": [
    "the_class_weight = class_weight.compute_class_weight('balanced', np.unique(train_generator.classes), train_generator.classes)"
   ]
  },
  {
   "cell_type": "code",
   "execution_count": 13,
   "metadata": {},
   "outputs": [
    {
     "name": "stdout",
     "output_type": "stream",
     "text": [
      "Epoch 1/500000\n",
      "4088/4088 [==============================] - 616s 151ms/step - loss: 10.9792 - acc: 0.3187 - val_loss: 10.9121 - val_acc: 0.3230\n",
      "\n",
      "Epoch 00001: val_acc improved from -inf to 0.32299, saving model to vgg16pretrained_highest_val_acc_tribe.h5\n",
      "Epoch 2/500000\n",
      "4088/4088 [==============================] - 610s 149ms/step - loss: 10.9806 - acc: 0.3187 - val_loss: 10.9169 - val_acc: 0.3227\n",
      "\n",
      "Epoch 00002: val_acc did not improve from 0.32299\n",
      "Epoch 3/500000\n",
      "4088/4088 [==============================] - 609s 149ms/step - loss: 10.9806 - acc: 0.3187 - val_loss: 10.9264 - val_acc: 0.3221\n",
      "\n",
      "Epoch 00003: val_acc did not improve from 0.32299\n",
      "Epoch 4/500000\n",
      "4088/4088 [==============================] - 612s 150ms/step - loss: 10.9806 - acc: 0.3187 - val_loss: 10.9073 - val_acc: 0.3233\n",
      "\n",
      "Epoch 00004: val_acc improved from 0.32299 to 0.32329, saving model to vgg16pretrained_highest_val_acc_tribe.h5\n",
      "Epoch 5/500000\n",
      "4088/4088 [==============================] - 615s 150ms/step - loss: 10.9800 - acc: 0.3188 - val_loss: 10.9216 - val_acc: 0.3224\n",
      "\n",
      "Epoch 00005: val_acc did not improve from 0.32329\n",
      "Epoch 6/500000\n",
      "4088/4088 [==============================] - 621s 152ms/step - loss: 10.9800 - acc: 0.3188 - val_loss: 10.9312 - val_acc: 0.3218\n",
      "\n",
      "Epoch 00006: val_acc did not improve from 0.32329\n",
      "Epoch 7/500000\n",
      "4088/4088 [==============================] - 628s 154ms/step - loss: 10.9800 - acc: 0.3188 - val_loss: 10.9073 - val_acc: 0.3233\n",
      "\n",
      "Epoch 00007: val_acc did not improve from 0.32329\n",
      "Epoch 8/500000\n",
      "4088/4088 [==============================] - 632s 155ms/step - loss: 10.9806 - acc: 0.3187 - val_loss: 10.9026 - val_acc: 0.3236\n",
      "\n",
      "Epoch 00008: val_acc improved from 0.32329 to 0.32358, saving model to vgg16pretrained_highest_val_acc_tribe.h5\n",
      "Epoch 9/500000\n",
      "4088/4088 [==============================] - 637s 156ms/step - loss: 10.9806 - acc: 0.3187 - val_loss: 10.9312 - val_acc: 0.3218\n",
      "\n",
      "Epoch 00009: val_acc did not improve from 0.32358\n",
      "Epoch 10/500000\n",
      "4088/4088 [==============================] - 627s 153ms/step - loss: 10.9800 - acc: 0.3188 - val_loss: 10.9073 - val_acc: 0.3233\n",
      "\n",
      "Epoch 00010: val_acc did not improve from 0.32358\n",
      "Epoch 11/500000\n",
      "4088/4088 [==============================] - 639s 156ms/step - loss: 10.9806 - acc: 0.3187 - val_loss: 10.9073 - val_acc: 0.3233\n",
      "\n",
      "Epoch 00011: val_acc did not improve from 0.32358\n",
      "Epoch 12/500000\n",
      "4088/4088 [==============================] - 639s 156ms/step - loss: 10.9806 - acc: 0.3187 - val_loss: 10.9407 - val_acc: 0.3212\n",
      "\n",
      "Epoch 00012: val_acc did not improve from 0.32358\n"
     ]
    }
   ],
   "source": [
    "#Train\n",
    "history = model.fit_generator(train_generator,\n",
    "                    steps_per_epoch=steps_per_epoch,\n",
    "                    epochs=500000,\n",
    "                    callbacks=callbacks,\n",
    "                    validation_data=val_generator,\n",
    "                    validation_steps=validation_steps,\n",
    "                    class_weight=the_class_weight)"
   ]
  },
  {
   "cell_type": "code",
   "execution_count": 14,
   "metadata": {},
   "outputs": [
    {
     "data": {
      "image/png": "[encoded data removed]",
      "text/plain": [
       "<Figure size 432x288 with 1 Axes>"
      ]
     },
     "metadata": {
      "needs_background": "light"
     },
     "output_type": "display_data"
    }
   ],
   "source": [
    "plt.plot(history.history['acc'], label='training accuracy')\n",
    "plt.plot(history.history['val_acc'], label='validation accuracy')\n",
    "plt.title('Accuracy')\n",
    "plt.xlabel('epochs')\n",
    "plt.ylabel('accuracy')\n",
    "plt.legend()\n",
    "plt.savefig(save_plot_name, bbox_inches='tight')\n",
    "plt.show()"
   ]
  },
  {
   "cell_type": "code",
   "execution_count": 15,
   "metadata": {},
   "outputs": [],
   "source": [
    "#save\n",
    "model.save(save_model_name)"
   ]
  }
 ],
 "metadata": {
  "kernelspec": {
   "display_name": "Python 3",
   "language": "python",
   "name": "python3"
  },
  "language_info": {
   "codemirror_mode": {
    "name": "ipython",
    "version": 3
   },
   "file_extension": ".py",
   "mimetype": "text/x-python",
   "name": "python",
   "nbconvert_exporter": "python",
   "pygments_lexer": "ipython3",
   "version": "3.5.2"
  }
 },
 "nbformat": 4,
 "nbformat_minor": 2
}
