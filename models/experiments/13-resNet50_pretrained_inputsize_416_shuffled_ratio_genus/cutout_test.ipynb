{
 "cells": [
  {
   "cell_type": "code",
   "execution_count": 6,
   "metadata": {},
   "outputs": [],
   "source": [
    "%config IPCompleter.greedy=True"
   ]
  },
  {
   "cell_type": "code",
   "execution_count": 7,
   "metadata": {},
   "outputs": [],
   "source": [
    "import sys\n",
    "import os\n",
    "import pandas as pd\n",
    "import cv2\n",
    "import csv\n",
    "sys.path.append(\"../..\") # relative path to module toolkit"
   ]
  },
  {
   "cell_type": "code",
   "execution_count": 8,
   "metadata": {},
   "outputs": [],
   "source": [
    "from keras.preprocessing.image import img_to_array\n",
    "from keras.models import load_model\n",
    "from keras.backend import clear_session\n",
    "import numpy as np\n",
    "import matplotlib.pyplot as plt\n",
    "from toolkit import getLabelsFromDir\n",
    "%matplotlib inline"
   ]
  },
  {
   "cell_type": "code",
   "execution_count": 9,
   "metadata": {},
   "outputs": [],
   "source": [
    "target_size = (416, 416)\n",
    "genus_model = load_model(\"./highest_val_acc.h5\")"
   ]
  },
  {
   "cell_type": "code",
   "execution_count": 10,
   "metadata": {},
   "outputs": [
    {
     "name": "stdout",
     "output_type": "stream",
     "text": [
      "dict_keys(['correct_prediction', 'predicted_genus', 'real_species', 'real_genus', 'filepath'])\n"
     ]
    }
   ],
   "source": [
    "import os\n",
    "\n",
    "genus_val_dir = \"../../../images/images_genus_shuffled_aspect_416/val/\"\n",
    "\n",
    "genus_labels = getLabelsFromDir(genus_val_dir)\n",
    "all_genus_predict = []\n",
    "\n",
    "for cutout_species in [\n",
    "    \"Bisnius nigriventris\",\n",
    "    \"Gabrius piliger\",\n",
    "    \"Lathrobium castaneipenne\",\n",
    "    \"Lathrobium longulum\",\n",
    "    \"Lathrobium pallidipenne\",\n",
    "    \"Neobisnius procerulus\",\n",
    "    \"Philonthus pseudovarians\",\n",
    "    \"Philonthus spinipes\",\n",
    "    \"Philonthus umbratilis\",\n",
    "    \"Platydracus chalcocephalus\",\n",
    "    \"Quedius invreae\",\n",
    "    \"Quedius nemoralis\",\n",
    "    \"Rugilus geniculatus\",\n",
    "    \"Rugilus similis\",\n",
    "    \"Scopaeus minimus\",\n",
    "    \"Tasgius pedator\",\n",
    "    \"Tasgius winkleri\",\n",
    "    \"Tetartopeus rufonitidus\"\n",
    "    ]:\n",
    "    \n",
    "    cutout_species_dir_path = \"../../../images/cutout_416_aspect_images_species/val/\" + cutout_species\n",
    "    genus_predicts = []\n",
    "    \n",
    "    for file in os.listdir(cutout_species_dir_path):\n",
    "        if file.endswith(\".jpg\"):\n",
    "            file_path = os.path.join(cutout_species_dir_path, file)\n",
    "\n",
    "            real_genus = file_path.split(\" \")[0].split(\"/\")[-1]\n",
    "            real_species = file_path.split(\"/\")[-1].split(\"_\")[0]\n",
    "\n",
    "            img = cv2.imread(file_path)\n",
    "            img = cv2.cvtColor(img, cv2.COLOR_BGR2RGB)\n",
    "            resized_img = cv2.resize(img, target_size) \n",
    "\n",
    "            img_array = img_to_array(resized_img) / 255.0\n",
    "            img_array = img_array.reshape((1,) + img_array.shape)\n",
    "            genus_Y_pred = genus_model.predict(img_array, batch_size=None, verbose=0, steps=None)\n",
    "            genus_y_pred = np.argmax(genus_Y_pred, axis=1)\n",
    "\n",
    "            predicted_genus = genus_labels[genus_y_pred[0]]\n",
    "            \n",
    "            obj = {\"correct_prediction\": predicted_genus == real_genus, \"filepath\": file_path, \"real_genus\": real_genus, \"real_species\": real_species, \"predicted_genus\": predicted_genus}\n",
    "            \n",
    "            genus_predicts.append(obj)\n",
    "            all_genus_predict.append(obj)\n",
    "            \n",
    "    keys = genus_predicts[0].keys()\n",
    "    with open('./cutout/' + cutout_species + '_results.csv', 'w') as output_file:\n",
    "        dict_writer = csv.DictWriter(output_file, keys)\n",
    "        dict_writer.writeheader()\n",
    "        dict_writer.writerows(genus_predicts)\n",
    "\n",
    "        \n",
    "keys = all_genus_predict[0].keys()\n",
    "print(keys)\n",
    "with open('./cutout/overall_results.csv', 'w', newline='') as output_file:\n",
    "    dict_writer = csv.DictWriter(output_file, fieldnames=keys)\n",
    "    dict_writer.writeheader()\n",
    "    dict_writer.writerows(all_genus_predict)\n",
    "        \n",
    "        \n",
    "        "
   ]
  },
  {
   "cell_type": "code",
   "execution_count": null,
   "metadata": {},
   "outputs": [],
   "source": []
  }
 ],
 "metadata": {
  "kernelspec": {
   "display_name": "Python 3",
   "language": "python",
   "name": "python3"
  },
  "language_info": {
   "codemirror_mode": {
    "name": "ipython",
    "version": 3
   },
   "file_extension": ".py",
   "mimetype": "text/x-python",
   "name": "python",
   "nbconvert_exporter": "python",
   "pygments_lexer": "ipython3",
   "version": "3.5.2"
  }
 },
 "nbformat": 4,
 "nbformat_minor": 2
}
