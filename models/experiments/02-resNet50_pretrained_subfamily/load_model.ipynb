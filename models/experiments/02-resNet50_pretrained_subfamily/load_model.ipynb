{
 "cells": [
  {
   "cell_type": "code",
   "execution_count": 1,
   "metadata": {},
   "outputs": [],
   "source": [
    "%config IPCompleter.greedy=True"
   ]
  },
  {
   "cell_type": "code",
   "execution_count": 2,
   "metadata": {},
   "outputs": [],
   "source": [
    "import sys\n",
    "import os\n",
    "import pandas as pd\n",
    "sys.path.append(\"../..\") # relative path to module toolkit"
   ]
  },
  {
   "cell_type": "code",
   "execution_count": 3,
   "metadata": {},
   "outputs": [
    {
     "name": "stderr",
     "output_type": "stream",
     "text": [
      "Using TensorFlow backend.\n"
     ]
    },
    {
     "name": "stdout",
     "output_type": "stream",
     "text": [
      "tf.estimator package not installed.\n",
      "tf.estimator package not installed.\n"
     ]
    }
   ],
   "source": [
    "#from keras.applications import ResNet50\n",
    "#from keras.layers import Dense, GlobalAveragePooling2D\n",
    "from keras.models import Model, load_model\n",
    "from keras_preprocessing.image import ImageDataGenerator\n",
    "from toolkit import getLabelsFromDir, plot_confusion_matrix\n",
    "from sklearn.metrics import classification_report, confusion_matrix\n",
    "import numpy as np\n",
    "import matplotlib\n",
    "import matplotlib.pyplot as plt\n",
    "%matplotlib inline"
   ]
  },
  {
   "cell_type": "code",
   "execution_count": 4,
   "metadata": {},
   "outputs": [],
   "source": [
    "# setup\n",
    "batch_size = 1\n",
    "val_dir = \"../../../images/images_subfamily/val/\"\n",
    "val_images = 3381\n",
    "datasetDir = \"images_subfamily/\"\n",
    "saved_model = 'resNet50pretrained_highest_val_acc.h5'\n",
    "results_file = \"results.csv\""
   ]
  },
  {
   "cell_type": "code",
   "execution_count": 5,
   "metadata": {},
   "outputs": [],
   "source": [
    "labels = getLabelsFromDir(val_dir)\n",
    "val_datagen = ImageDataGenerator(rescale=1./255.)\n",
    "validation_steps = int(val_images/batch_size) "
   ]
  },
  {
   "cell_type": "code",
   "execution_count": 6,
   "metadata": {},
   "outputs": [],
   "source": [
    "model = load_model(saved_model)"
   ]
  },
  {
   "cell_type": "code",
   "execution_count": 7,
   "metadata": {},
   "outputs": [
    {
     "name": "stdout",
     "output_type": "stream",
     "text": [
      "Found 3381 images belonging to 2 classes.\n"
     ]
    }
   ],
   "source": [
    "val_generator = val_datagen.flow_from_directory(val_dir,\n",
    "                                                    classes=labels,\n",
    "                                                    class_mode=\"categorical\",\n",
    "                                                    batch_size=batch_size,\n",
    "                                                    color_mode='rgb',\n",
    "                                                    target_size=(224, 224),\n",
    "                                                    shuffle=False,\n",
    "                                                    seed=1)"
   ]
  },
  {
   "cell_type": "code",
   "execution_count": 8,
   "metadata": {},
   "outputs": [
    {
     "name": "stdout",
     "output_type": "stream",
     "text": [
      "3381/3381 [==============================] - 85s 25ms/step\n"
     ]
    }
   ],
   "source": [
    "Y_pred = model.predict_generator(val_generator, steps=validation_steps, verbose=1)"
   ]
  },
  {
   "cell_type": "code",
   "execution_count": 9,
   "metadata": {},
   "outputs": [],
   "source": [
    "y_pred = np.argmax(Y_pred, axis=1)\n",
    "y_pred3 = [y[-3:] for y in np.argsort(Y_pred, axis=1)] "
   ]
  },
  {
   "cell_type": "code",
   "execution_count": 10,
   "metadata": {},
   "outputs": [
    {
     "name": "stdout",
     "output_type": "stream",
     "text": [
      "               precision    recall  f1-score   support\n",
      "\n",
      "   Paederinae       1.00      1.00      1.00      1091\n",
      "Staphylininae       1.00      1.00      1.00      2290\n",
      "\n",
      "    micro avg       1.00      1.00      1.00      3381\n",
      "    macro avg       1.00      1.00      1.00      3381\n",
      " weighted avg       1.00      1.00      1.00      3381\n",
      "\n"
     ]
    }
   ],
   "source": [
    "#print(classification_report(val_generator.classes, y_pred, target_names=labels))\n",
    "print(classification_report(val_generator.classes, y_pred, target_names=labels))"
   ]
  },
  {
   "cell_type": "code",
   "execution_count": 11,
   "metadata": {},
   "outputs": [
    {
     "name": "stdout",
     "output_type": "stream",
     "text": [
      "Confusion matrix, without normalization\n",
      "[[1091    0]\n",
      " [   2 2288]]\n"
     ]
    },
    {
     "data": {
      "text/plain": [
       "<matplotlib.axes._subplots.AxesSubplot at 0x7fae2b206410>"
      ]
     },
     "execution_count": 11,
     "metadata": {},
     "output_type": "execute_result"
    },
    {
     "data": {
      "image/png": "[encoded data removed]",
      "text/plain": [
       "<matplotlib.figure.Figure at 0x7fae2b20c0d0>"
      ]
     },
     "metadata": {},
     "output_type": "display_data"
    }
   ],
   "source": [
    "y_true = val_generator.classes\n",
    "matplotlib.rcParams['figure.figsize'] = [10, 10]\n",
    "plot_confusion_matrix(y_true, y_pred, np.array(labels))"
   ]
  },
  {
   "cell_type": "code",
   "execution_count": 12,
   "metadata": {},
   "outputs": [],
   "source": [
    "labels = (val_generator.class_indices) # dict of label:index\n",
    "labels = dict((i,l) for l,i in labels.items()) # dict of index:label"
   ]
  },
  {
   "cell_type": "code",
   "execution_count": 13,
   "metadata": {},
   "outputs": [],
   "source": [
    "# create pd.dataframe and save predictions to .csv\n",
    "filenames=[datasetDir + name for name in val_generator.filenames]\n",
    "y_pred_labels = [labels[y] for y in y_pred]\n",
    "y_true_labels = [labels[y] for y in y_true]\n",
    "y_pred3_labels = []\n",
    "for i,top3 in enumerate(y_pred3):\n",
    "    l = []\n",
    "    for top in top3:\n",
    "        l.append((labels[top], Y_pred[i][top]))\n",
    "    y_pred3_labels.append(l)\n",
    "\n",
    "results=pd.DataFrame({\"Filename\":filenames,\n",
    "                      \"Label\":y_true_labels,\n",
    "                      \"Prediction1\":y_pred_labels,\n",
    "                      \"Prediction3\":y_pred3_labels})\n",
    "results.to_csv(results_file,index=True)"
   ]
  }
 ],
 "metadata": {
  "kernelspec": {
   "display_name": "Python 3",
   "language": "python",
   "name": "python3"
  },
  "language_info": {
   "codemirror_mode": {
    "name": "ipython",
    "version": 2
   },
   "file_extension": ".py",
   "mimetype": "text/x-python",
   "name": "python",
   "nbconvert_exporter": "python",
   "pygments_lexer": "ipython2",
   "version": "2.7.12"
  }
 },
 "nbformat": 4,
 "nbformat_minor": 2
}
