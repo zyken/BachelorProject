{
 "cells": [
  {
   "cell_type": "code",
   "execution_count": 16,
   "metadata": {},
   "outputs": [],
   "source": [
    "%config IPCompleter.greedy=True"
   ]
  },
  {
   "cell_type": "code",
   "execution_count": 17,
   "metadata": {},
   "outputs": [],
   "source": [
    "import sys\n",
    "sys.path.append(\"../..\") # relative path to module toolkit"
   ]
  },
  {
   "cell_type": "code",
   "execution_count": 18,
   "metadata": {},
   "outputs": [],
   "source": [
    "from keras.applications import VGG16\n",
    "from keras.layers import Dense, GlobalAveragePooling2D, Flatten\n",
    "from keras.models import Model, Sequential\n",
    "from keras_preprocessing.image import ImageDataGenerator\n",
    "from keras.callbacks import EarlyStopping, ModelCheckpoint\n",
    "from toolkit import getLabelsFromDir, plot_confusion_matrix\n",
    "from sklearn.metrics import classification_report, confusion_matrix\n",
    "from sklearn.utils import class_weight \n",
    "import numpy as np\n",
    "import os\n",
    "import matplotlib\n",
    "import matplotlib.pyplot as plt\n",
    "%matplotlib inline"
   ]
  },
  {
   "cell_type": "code",
   "execution_count": 19,
   "metadata": {},
   "outputs": [],
   "source": [
    "# setup\n",
    "batch_size = 3\n",
    "train_dir = \"../../../images/images_genus/train/\"\n",
    "val_dir = \"../../../images/images_genus/val/\"\n",
    "train_images = 12263\n",
    "val_images = 3381\n",
    "save_model_name = \"vgg16pretrained_genus.h5\"\n",
    "save_plot_name = \"vgg16pretrained_trainplot_genus.png\"\n",
    "model_name = 'vgg16pretrained_highest_val_acc_genus.h5'"
   ]
  },
  {
   "cell_type": "code",
   "execution_count": 20,
   "metadata": {},
   "outputs": [],
   "source": [
    "steps_per_epoch = int(train_images/batch_size) + 1\n",
    "validation_steps = int(val_images/batch_size) + 1"
   ]
  },
  {
   "cell_type": "code",
   "execution_count": 21,
   "metadata": {},
   "outputs": [
    {
     "name": "stderr",
     "output_type": "stream",
     "text": [
      "/home/herri/.local/lib/python3.5/site-packages/ipykernel_launcher.py:13: UserWarning: Update your `Model` call to the Keras 2 API: `Model(outputs=Tensor(\"de..., inputs=Tensor(\"in...)`\n",
      "  del sys.path[0]\n"
     ]
    }
   ],
   "source": [
    "vgg16_model = VGG16(\n",
    "    include_top=False, \n",
    "    weights=\"imagenet\", \n",
    "    input_shape=(224, 224, 3) \n",
    ")\n",
    "\n",
    "x = vgg16_model.output\n",
    "x = Flatten()(x)\n",
    "x = Dense(4096, activation='relu')(x)\n",
    "x = Dense(4096, activation='relu')(x)\n",
    "predictions = Dense(44, activation='softmax')(x)\n",
    "\n",
    "model = Model(input=vgg16_model.input, output=predictions)\n",
    "\n",
    "for layer in model.layers:\n",
    "    layer.trainable = True"
   ]
  },
  {
   "cell_type": "code",
   "execution_count": 22,
   "metadata": {},
   "outputs": [
    {
     "name": "stdout",
     "output_type": "stream",
     "text": [
      "_________________________________________________________________\n",
      "Layer (type)                 Output Shape              Param #   \n",
      "=================================================================\n",
      "input_5 (InputLayer)         (None, 224, 224, 3)       0         \n",
      "_________________________________________________________________\n",
      "block1_conv1 (Conv2D)        (None, 224, 224, 64)      1792      \n",
      "_________________________________________________________________\n",
      "block1_conv2 (Conv2D)        (None, 224, 224, 64)      36928     \n",
      "_________________________________________________________________\n",
      "block1_pool (MaxPooling2D)   (None, 112, 112, 64)      0         \n",
      "_________________________________________________________________\n",
      "block2_conv1 (Conv2D)        (None, 112, 112, 128)     73856     \n",
      "_________________________________________________________________\n",
      "block2_conv2 (Conv2D)        (None, 112, 112, 128)     147584    \n",
      "_________________________________________________________________\n",
      "block2_pool (MaxPooling2D)   (None, 56, 56, 128)       0         \n",
      "_________________________________________________________________\n",
      "block3_conv1 (Conv2D)        (None, 56, 56, 256)       295168    \n",
      "_________________________________________________________________\n",
      "block3_conv2 (Conv2D)        (None, 56, 56, 256)       590080    \n",
      "_________________________________________________________________\n",
      "block3_conv3 (Conv2D)        (None, 56, 56, 256)       590080    \n",
      "_________________________________________________________________\n",
      "block3_pool (MaxPooling2D)   (None, 28, 28, 256)       0         \n",
      "_________________________________________________________________\n",
      "block4_conv1 (Conv2D)        (None, 28, 28, 512)       1180160   \n",
      "_________________________________________________________________\n",
      "block4_conv2 (Conv2D)        (None, 28, 28, 512)       2359808   \n",
      "_________________________________________________________________\n",
      "block4_conv3 (Conv2D)        (None, 28, 28, 512)       2359808   \n",
      "_________________________________________________________________\n",
      "block4_pool (MaxPooling2D)   (None, 14, 14, 512)       0         \n",
      "_________________________________________________________________\n",
      "block5_conv1 (Conv2D)        (None, 14, 14, 512)       2359808   \n",
      "_________________________________________________________________\n",
      "block5_conv2 (Conv2D)        (None, 14, 14, 512)       2359808   \n",
      "_________________________________________________________________\n",
      "block5_conv3 (Conv2D)        (None, 14, 14, 512)       2359808   \n",
      "_________________________________________________________________\n",
      "block5_pool (MaxPooling2D)   (None, 7, 7, 512)         0         \n",
      "_________________________________________________________________\n",
      "flatten_3 (Flatten)          (None, 25088)             0         \n",
      "_________________________________________________________________\n",
      "dense_10 (Dense)             (None, 4096)              102764544 \n",
      "_________________________________________________________________\n",
      "dense_11 (Dense)             (None, 4096)              16781312  \n",
      "_________________________________________________________________\n",
      "dense_12 (Dense)             (None, 44)                180268    \n",
      "=================================================================\n",
      "Total params: 134,440,812\n",
      "Trainable params: 134,440,812\n",
      "Non-trainable params: 0\n",
      "_________________________________________________________________\n"
     ]
    }
   ],
   "source": [
    "model.summary()"
   ]
  },
  {
   "cell_type": "code",
   "execution_count": 23,
   "metadata": {},
   "outputs": [],
   "source": [
    "# compile model\n",
    "model.compile(loss='categorical_crossentropy',\n",
    "            optimizer='sgd',\n",
    "            metrics=['accuracy'])\n"
   ]
  },
  {
   "cell_type": "code",
   "execution_count": 24,
   "metadata": {},
   "outputs": [],
   "source": [
    "labels = getLabelsFromDir(train_dir)\n",
    "\n",
    "train_datagen = ImageDataGenerator(rescale=1./255.)\n",
    "val_datagen = ImageDataGenerator(rescale=1./255.)"
   ]
  },
  {
   "cell_type": "code",
   "execution_count": 25,
   "metadata": {},
   "outputs": [
    {
     "name": "stdout",
     "output_type": "stream",
     "text": [
      "Found 12263 images belonging to 44 classes.\n",
      "Found 3381 images belonging to 44 classes.\n"
     ]
    }
   ],
   "source": [
    "train_generator = train_datagen.flow_from_directory(train_dir,\n",
    "                                                    classes=labels,\n",
    "                                                    class_mode=\"categorical\",\n",
    "                                                    batch_size=batch_size,\n",
    "                                                    color_mode='rgb',\n",
    "                                                    target_size=(224, 224),\n",
    "                                                    shuffle=True)\n",
    "val_generator = val_datagen.flow_from_directory(val_dir,\n",
    "                                                    classes=labels,\n",
    "                                                    class_mode=\"categorical\",\n",
    "                                                    batch_size=batch_size,\n",
    "                                                    color_mode='rgb',\n",
    "                                                    target_size=(224, 224),\n",
    "                                                    shuffle=True)"
   ]
  },
  {
   "cell_type": "code",
   "execution_count": 26,
   "metadata": {},
   "outputs": [],
   "source": [
    "filepath = model_name\n",
    "\n",
    "checkpoint = ModelCheckpoint(filepath=filepath,\n",
    "                             monitor='val_acc',\n",
    "                             verbose=1,\n",
    "                             save_best_only=True)\n",
    "\n",
    "early_stop = EarlyStopping(monitor='val_acc', mode='max', patience=4)\n",
    "\n",
    "callbacks = [checkpoint, early_stop]"
   ]
  },
  {
   "cell_type": "code",
   "execution_count": 27,
   "metadata": {},
   "outputs": [],
   "source": [
    "the_class_weight = class_weight.compute_class_weight('balanced', np.unique(train_generator.classes), train_generator.classes)"
   ]
  },
  {
   "cell_type": "code",
   "execution_count": 28,
   "metadata": {},
   "outputs": [
    {
     "name": "stdout",
     "output_type": "stream",
     "text": [
      "Epoch 1/500000\n",
      "4088/4088 [==============================] - 609s 149ms/step - loss: 1.8559 - acc: 0.4741 - val_loss: 0.8257 - val_acc: 0.7278\n",
      "\n",
      "Epoch 00001: val_acc improved from -inf to 0.72784, saving model to vgg16pretrained_highest_val_acc_genus.h5\n",
      "Epoch 2/500000\n",
      "4088/4088 [==============================] - 607s 148ms/step - loss: 0.7244 - acc: 0.7645 - val_loss: 0.5292 - val_acc: 0.8295\n",
      "\n",
      "Epoch 00002: val_acc improved from 0.72784 to 0.82949, saving model to vgg16pretrained_highest_val_acc_genus.h5\n",
      "Epoch 3/500000\n",
      "4088/4088 [==============================] - 607s 148ms/step - loss: 0.4021 - acc: 0.8685 - val_loss: 0.3299 - val_acc: 0.8939\n",
      "\n",
      "Epoch 00003: val_acc improved from 0.82949 to 0.89391, saving model to vgg16pretrained_highest_val_acc_genus.h5\n",
      "Epoch 4/500000\n",
      "4088/4088 [==============================] - 607s 148ms/step - loss: 0.2680 - acc: 0.9103 - val_loss: 0.2762 - val_acc: 0.9116\n",
      "\n",
      "Epoch 00004: val_acc improved from 0.89391 to 0.91164, saving model to vgg16pretrained_highest_val_acc_genus.h5\n",
      "Epoch 5/500000\n",
      "4088/4088 [==============================] - 607s 148ms/step - loss: 0.1818 - acc: 0.9428 - val_loss: 0.2283 - val_acc: 0.9294\n",
      "\n",
      "Epoch 00005: val_acc improved from 0.91164 to 0.92937, saving model to vgg16pretrained_highest_val_acc_genus.h5\n",
      "Epoch 6/500000\n",
      "4088/4088 [==============================] - 607s 148ms/step - loss: 0.1336 - acc: 0.9578 - val_loss: 0.1799 - val_acc: 0.9444\n",
      "\n",
      "Epoch 00006: val_acc improved from 0.92937 to 0.94444, saving model to vgg16pretrained_highest_val_acc_genus.h5\n",
      "Epoch 7/500000\n",
      "4088/4088 [==============================] - 611s 150ms/step - loss: 0.1023 - acc: 0.9675 - val_loss: 0.2185 - val_acc: 0.9376\n",
      "\n",
      "Epoch 00007: val_acc did not improve from 0.94444\n",
      "Epoch 8/500000\n",
      "4088/4088 [==============================] - 632s 155ms/step - loss: 0.0765 - acc: 0.9779 - val_loss: 0.1667 - val_acc: 0.9530\n",
      "\n",
      "Epoch 00008: val_acc improved from 0.94444 to 0.95301, saving model to vgg16pretrained_highest_val_acc_genus.h5\n",
      "Epoch 9/500000\n",
      "4088/4088 [==============================] - 635s 155ms/step - loss: 0.0598 - acc: 0.9820 - val_loss: 0.1825 - val_acc: 0.9483\n",
      "\n",
      "Epoch 00009: val_acc did not improve from 0.95301\n",
      "Epoch 10/500000\n",
      "4088/4088 [==============================] - 636s 156ms/step - loss: 0.0578 - acc: 0.9829 - val_loss: 0.1987 - val_acc: 0.9459\n",
      "\n",
      "Epoch 00010: val_acc did not improve from 0.95301\n",
      "Epoch 11/500000\n",
      "4088/4088 [==============================] - 636s 156ms/step - loss: 0.0302 - acc: 0.9908 - val_loss: 0.1379 - val_acc: 0.9687\n",
      "\n",
      "Epoch 00011: val_acc improved from 0.95301 to 0.96868, saving model to vgg16pretrained_highest_val_acc_genus.h5\n",
      "Epoch 12/500000\n",
      "4088/4088 [==============================] - 634s 155ms/step - loss: 0.0244 - acc: 0.9934 - val_loss: 0.2235 - val_acc: 0.9385\n",
      "\n",
      "Epoch 00012: val_acc did not improve from 0.96868\n",
      "Epoch 13/500000\n",
      "4088/4088 [==============================] - 636s 156ms/step - loss: 0.0342 - acc: 0.9907 - val_loss: 0.1895 - val_acc: 0.9536\n",
      "\n",
      "Epoch 00013: val_acc did not improve from 0.96868\n",
      "Epoch 14/500000\n",
      "4088/4088 [==============================] - 635s 155ms/step - loss: 0.0289 - acc: 0.9914 - val_loss: 0.1892 - val_acc: 0.9530\n",
      "\n",
      "Epoch 00014: val_acc did not improve from 0.96868\n",
      "Epoch 15/500000\n",
      "4088/4088 [==============================] - 636s 156ms/step - loss: 0.0487 - acc: 0.9856 - val_loss: 0.1343 - val_acc: 0.9669\n",
      "\n",
      "Epoch 00015: val_acc did not improve from 0.96868\n"
     ]
    }
   ],
   "source": [
    "#Train\n",
    "history = model.fit_generator(train_generator,\n",
    "                    steps_per_epoch=steps_per_epoch,\n",
    "                    epochs=500000,\n",
    "                    callbacks=callbacks,\n",
    "                    validation_data=val_generator,\n",
    "                    validation_steps=validation_steps,\n",
    "                    class_weight=the_class_weight)"
   ]
  },
  {
   "cell_type": "code",
   "execution_count": 29,
   "metadata": {},
   "outputs": [
    {
     "data": {
      "image/png": "[encoded data removed]",
      "text/plain": [
       "<Figure size 432x288 with 1 Axes>"
      ]
     },
     "metadata": {
      "needs_background": "light"
     },
     "output_type": "display_data"
    }
   ],
   "source": [
    "plt.plot(history.history['acc'], label='training accuracy')\n",
    "plt.plot(history.history['val_acc'], label='validation accuracy')\n",
    "plt.title('Accuracy')\n",
    "plt.xlabel('epochs')\n",
    "plt.ylabel('accuracy')\n",
    "plt.legend()\n",
    "plt.savefig(save_plot_name, bbox_inches='tight')\n",
    "plt.show()"
   ]
  },
  {
   "cell_type": "code",
   "execution_count": 30,
   "metadata": {},
   "outputs": [],
   "source": [
    "#save\n",
    "model.save(save_model_name)"
   ]
  }
 ],
 "metadata": {
  "kernelspec": {
   "display_name": "Python 3",
   "language": "python",
   "name": "python3"
  },
  "language_info": {
   "codemirror_mode": {
    "name": "ipython",
    "version": 3
   },
   "file_extension": ".py",
   "mimetype": "text/x-python",
   "name": "python",
   "nbconvert_exporter": "python",
   "pygments_lexer": "ipython3",
   "version": "3.5.2"
  }
 },
 "nbformat": 4,
 "nbformat_minor": 2
}
