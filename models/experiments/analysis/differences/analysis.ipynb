{
 "cells": [
  {
   "cell_type": "code",
   "execution_count": 1,
   "metadata": {},
   "outputs": [],
   "source": [
    "%config IPCompleter.greedy=True\n",
    "import pandas as pd\n",
    "from subprocess import call"
   ]
  },
  {
   "cell_type": "code",
   "execution_count": 2,
   "metadata": {},
   "outputs": [],
   "source": [
    "misclass2 = pd.read_csv('../../05-resNet50_pretrained_nofc_species/misclassified.csv') \n",
    "misclass3 = pd.read_csv('../../10-resNet50_pretrained_nofc_species_inputsize_416/misclassified.csv') "
   ]
  },
  {
   "cell_type": "code",
   "execution_count": 6,
   "metadata": {},
   "outputs": [],
   "source": [
    "diff = misclass2['Label'].value_counts() - misclass3['Label'].value_counts()"
   ]
  },
  {
   "cell_type": "markdown",
   "metadata": {},
   "source": [
    "### labels where prediction rate has fallen"
   ]
  },
  {
   "cell_type": "code",
   "execution_count": 10,
   "metadata": {},
   "outputs": [
    {
     "data": {
      "text/plain": [
       "Philonthus laminatus        -6.0\n",
       "Astenus gracilis            -5.0\n",
       "Philonthus decorus          -4.0\n",
       "Tasgius melanarius          -3.0\n",
       "Scopaeus sulcicollis        -3.0\n",
       "Lathrobium elongatum        -3.0\n",
       "Rugilus orbiculatus         -2.0\n",
       "Philonthus micans           -2.0\n",
       "Philonthus binotatus        -2.0\n",
       "Lathrobium fulvipenne       -2.0\n",
       "Xantholinus laevigatus      -1.0\n",
       "Tetartopeus terminatus      -1.0\n",
       "Sunius bicolor              -1.0\n",
       "Quedius scintillans         -1.0\n",
       "Quedius boopoides           -1.0\n",
       "Philonthus succicola        -1.0\n",
       "Xantholinus longiventris    -1.0\n",
       "Bisnius fimetarius          -1.0\n",
       "Philonthus nitidicollis      0.0\n",
       "Xantholinus linearis         0.0\n",
       "Gabrius keysianus            0.0\n",
       "Philonthus furcifer          0.0\n",
       "Philonthus jurgans           0.0\n",
       "Philonthus punctus           0.0\n",
       "Philonthus rufipes           0.0\n",
       "Philonthus varians           0.0\n",
       "Philonthus ventralis         0.0\n",
       "Quedius brevis               0.0\n",
       "Quedius cinctus              0.0\n",
       "Quedius infuscatus           0.0\n",
       "                            ... \n",
       "Ocypus picipennis            NaN\n",
       "Paederus littoralis          NaN\n",
       "Philonthus albipes           NaN\n",
       "Philonthus concinnus         NaN\n",
       "Philonthus confinis          NaN\n",
       "Philonthus corvinus          NaN\n",
       "Philonthus ebeninus          NaN\n",
       "Philonthus lepidus           NaN\n",
       "Philonthus nitidus           NaN\n",
       "Philonthus quisquiliarius    NaN\n",
       "Philonthus rectangulus       NaN\n",
       "Philonthus salinus           NaN\n",
       "Philonthus splendens         NaN\n",
       "Pseudomedon obscurellus      NaN\n",
       "Pseudomedon obsoletus        NaN\n",
       "Quedius boops                NaN\n",
       "Quedius brevicornis          NaN\n",
       "Quedius cruentus             NaN\n",
       "Quedius lateralis            NaN\n",
       "Quedius nigrocaeruleus       NaN\n",
       "Quedius puncticollis         NaN\n",
       "Quedius semiaeneus           NaN\n",
       "Quedius xanthopus            NaN\n",
       "Scopaeus minutus             NaN\n",
       "Staphylinus caesareus        NaN\n",
       "Staphylinus erythropterus    NaN\n",
       "Tasgius globulifer           NaN\n",
       "Tetartopeus quadratus        NaN\n",
       "Xantholinus dvoraki          NaN\n",
       "Xantholinus tricolor         NaN\n",
       "Name: Label, Length: 133, dtype: float64"
      ]
     },
     "execution_count": 10,
     "metadata": {},
     "output_type": "execute_result"
    }
   ],
   "source": [
    "diff.sort_values()"
   ]
  },
  {
   "cell_type": "markdown",
   "metadata": {},
   "source": [
    "### label where prediction rate has increased"
   ]
  },
  {
   "cell_type": "code",
   "execution_count": 11,
   "metadata": {},
   "outputs": [
    {
     "data": {
      "text/plain": [
       "Leptacinus batychrus         5.0\n",
       "Astenus lyonessius           4.0\n",
       "Philonthus carbonarius       4.0\n",
       "Lathrobium geminum           4.0\n",
       "Philonthus tenuicornis       4.0\n",
       "Philonthus politus           3.0\n",
       "Quedius fuliginosus          3.0\n",
       "Lathrobium impressum         3.0\n",
       "Sunius melanocephalus        3.0\n",
       "Paederus riparius            3.0\n",
       "Philonthus intermedius       2.0\n",
       "Philonthus addendus          2.0\n",
       "Quedius umbrinus             2.0\n",
       "Gabrius appendiculatus       2.0\n",
       "Gyrohypnus punctulatus       2.0\n",
       "Gyrohypnus fracticornis      2.0\n",
       "Bisnius sordidus             2.0\n",
       "Medon ripicola               1.0\n",
       "Gabrius nigritulus           1.0\n",
       "Gabrius exiguus              1.0\n",
       "Gabrius austriacus           1.0\n",
       "Nudobius lentus              1.0\n",
       "Philonthus parvicornis       1.0\n",
       "Philonthus mannerheimi       1.0\n",
       "Philonthus longicornis       1.0\n",
       "Gabrius breviventer          1.0\n",
       "Heterothops binotatus        1.0\n",
       "Rugilus erichsoni            1.0\n",
       "Quedius nitipennis           1.0\n",
       "Xantholinus gallicus         1.0\n",
       "                            ... \n",
       "Ocypus picipennis            NaN\n",
       "Paederus littoralis          NaN\n",
       "Philonthus albipes           NaN\n",
       "Philonthus concinnus         NaN\n",
       "Philonthus confinis          NaN\n",
       "Philonthus corvinus          NaN\n",
       "Philonthus ebeninus          NaN\n",
       "Philonthus lepidus           NaN\n",
       "Philonthus nitidus           NaN\n",
       "Philonthus quisquiliarius    NaN\n",
       "Philonthus rectangulus       NaN\n",
       "Philonthus salinus           NaN\n",
       "Philonthus splendens         NaN\n",
       "Pseudomedon obscurellus      NaN\n",
       "Pseudomedon obsoletus        NaN\n",
       "Quedius boops                NaN\n",
       "Quedius brevicornis          NaN\n",
       "Quedius cruentus             NaN\n",
       "Quedius lateralis            NaN\n",
       "Quedius nigrocaeruleus       NaN\n",
       "Quedius puncticollis         NaN\n",
       "Quedius semiaeneus           NaN\n",
       "Quedius xanthopus            NaN\n",
       "Scopaeus minutus             NaN\n",
       "Staphylinus caesareus        NaN\n",
       "Staphylinus erythropterus    NaN\n",
       "Tasgius globulifer           NaN\n",
       "Tetartopeus quadratus        NaN\n",
       "Xantholinus dvoraki          NaN\n",
       "Xantholinus tricolor         NaN\n",
       "Name: Label, Length: 133, dtype: float64"
      ]
     },
     "execution_count": 11,
     "metadata": {},
     "output_type": "execute_result"
    }
   ],
   "source": [
    "diff.sort_values(ascending=False)"
   ]
  },
  {
   "cell_type": "code",
   "execution_count": null,
   "metadata": {},
   "outputs": [],
   "source": []
  }
 ],
 "metadata": {
  "kernelspec": {
   "display_name": "Python 3",
   "language": "python",
   "name": "python3"
  },
  "language_info": {
   "codemirror_mode": {
    "name": "ipython",
    "version": 3
   },
   "file_extension": ".py",
   "mimetype": "text/x-python",
   "name": "python",
   "nbconvert_exporter": "python",
   "pygments_lexer": "ipython3",
   "version": "3.6.8"
  }
 },
 "nbformat": 4,
 "nbformat_minor": 2
}
